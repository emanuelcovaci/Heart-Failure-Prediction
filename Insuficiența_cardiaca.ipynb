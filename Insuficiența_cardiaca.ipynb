{
  "nbformat": 4,
  "nbformat_minor": 0,
  "metadata": {
    "colab": {
      "name": "Insuficiența cardiaca.ipynb",
      "provenance": [],
      "collapsed_sections": [],
      "authorship_tag": "ABX9TyPf9Rq319WV4LSo+Ci2XBwE",
      "include_colab_link": true
    },
    "kernelspec": {
      "name": "python3",
      "display_name": "Python 3"
    }
  },
  "cells": [
    {
      "cell_type": "markdown",
      "metadata": {
        "id": "view-in-github",
        "colab_type": "text"
      },
      "source": [
        "<a href=\"https://colab.research.google.com/github/emanuelcovaci/Heart-Failure-Prediction/blob/main/Insuficien%C8%9Ba_cardiaca.ipynb\" target=\"_parent\"><img src=\"https://colab.research.google.com/assets/colab-badge.svg\" alt=\"Open In Colab\"/></a>"
      ]
    },
    {
      "cell_type": "markdown",
      "metadata": {
        "id": "VxRHPq7W5Swy"
      },
      "source": [
        "**Emanuel Covaci**"
      ]
    },
    {
      "cell_type": "markdown",
      "metadata": {
        "id": "lpnP1iG_1fsA"
      },
      "source": [
        "Dataset https://www.kaggle.com/andrewmvd/heart-failure-clinical-data\r\n"
      ]
    },
    {
      "cell_type": "markdown",
      "metadata": {
        "id": "_3fpHG1xC9aD"
      },
      "source": [
        "**Insuficiența cardiacă afectează aproximativ un milion de români și reprezintă principala cauză de deces cardiovascular la nivel național, alături de infarctul miocardic și accidentul vascular cerebral**"
      ]
    },
    {
      "cell_type": "markdown",
      "metadata": {
        "id": "9PebzK97DEbe"
      },
      "source": [
        "**Principalii factori de risc cardiovascular sunt: fumatul, colesterolul crescut, hipertensiunea arteriala, diabetul zaharat, obezitatea, stresul, sedentarismul.**\n",
        "\n",
        "**In acest proiect imi propun sa analizez principalii factori de risc si pe baza acestora sa prezic sansele de deces**"
      ]
    },
    {
      "cell_type": "code",
      "metadata": {
        "id": "9QnSxHwLt12r"
      },
      "source": [
        "import numpy as np\r\n",
        "import pandas as pd\r\n",
        "\r\n",
        "import matplotlib.pyplot as plt\r\n",
        "import seaborn as sns\r\n",
        "\r\n",
        "%matplotlib inline\r\n"
      ],
      "execution_count": 172,
      "outputs": []
    },
    {
      "cell_type": "code",
      "metadata": {
        "id": "kR_oidpFup8b"
      },
      "source": [
        "\r\n",
        "df = pd.read_csv('heart_failure_clinical_records_dataset.csv')"
      ],
      "execution_count": 173,
      "outputs": []
    },
    {
      "cell_type": "code",
      "metadata": {
        "colab": {
          "base_uri": "https://localhost:8080/",
          "height": 379
        },
        "id": "-pPx0f5mur67",
        "outputId": "57df1a49-2a17-47f2-8009-37243ed82073"
      },
      "source": [
        "df.sample(10)"
      ],
      "execution_count": 174,
      "outputs": [
        {
          "output_type": "execute_result",
          "data": {
            "text/html": [
              "<div>\n",
              "<style scoped>\n",
              "    .dataframe tbody tr th:only-of-type {\n",
              "        vertical-align: middle;\n",
              "    }\n",
              "\n",
              "    .dataframe tbody tr th {\n",
              "        vertical-align: top;\n",
              "    }\n",
              "\n",
              "    .dataframe thead th {\n",
              "        text-align: right;\n",
              "    }\n",
              "</style>\n",
              "<table border=\"1\" class=\"dataframe\">\n",
              "  <thead>\n",
              "    <tr style=\"text-align: right;\">\n",
              "      <th></th>\n",
              "      <th>age</th>\n",
              "      <th>anaemia</th>\n",
              "      <th>creatinine_phosphokinase</th>\n",
              "      <th>diabetes</th>\n",
              "      <th>ejection_fraction</th>\n",
              "      <th>high_blood_pressure</th>\n",
              "      <th>platelets</th>\n",
              "      <th>serum_creatinine</th>\n",
              "      <th>serum_sodium</th>\n",
              "      <th>sex</th>\n",
              "      <th>smoking</th>\n",
              "      <th>time</th>\n",
              "      <th>DEATH_EVENT</th>\n",
              "    </tr>\n",
              "  </thead>\n",
              "  <tbody>\n",
              "    <tr>\n",
              "      <th>193</th>\n",
              "      <td>73.0</td>\n",
              "      <td>1</td>\n",
              "      <td>231</td>\n",
              "      <td>1</td>\n",
              "      <td>30</td>\n",
              "      <td>0</td>\n",
              "      <td>160000.0</td>\n",
              "      <td>1.18</td>\n",
              "      <td>142</td>\n",
              "      <td>1</td>\n",
              "      <td>1</td>\n",
              "      <td>180</td>\n",
              "      <td>0</td>\n",
              "    </tr>\n",
              "    <tr>\n",
              "      <th>284</th>\n",
              "      <td>50.0</td>\n",
              "      <td>1</td>\n",
              "      <td>54</td>\n",
              "      <td>0</td>\n",
              "      <td>40</td>\n",
              "      <td>0</td>\n",
              "      <td>279000.0</td>\n",
              "      <td>0.80</td>\n",
              "      <td>141</td>\n",
              "      <td>1</td>\n",
              "      <td>0</td>\n",
              "      <td>250</td>\n",
              "      <td>0</td>\n",
              "    </tr>\n",
              "    <tr>\n",
              "      <th>195</th>\n",
              "      <td>77.0</td>\n",
              "      <td>1</td>\n",
              "      <td>418</td>\n",
              "      <td>0</td>\n",
              "      <td>45</td>\n",
              "      <td>0</td>\n",
              "      <td>223000.0</td>\n",
              "      <td>1.80</td>\n",
              "      <td>145</td>\n",
              "      <td>1</td>\n",
              "      <td>0</td>\n",
              "      <td>180</td>\n",
              "      <td>1</td>\n",
              "    </tr>\n",
              "    <tr>\n",
              "      <th>33</th>\n",
              "      <td>50.0</td>\n",
              "      <td>1</td>\n",
              "      <td>159</td>\n",
              "      <td>1</td>\n",
              "      <td>30</td>\n",
              "      <td>0</td>\n",
              "      <td>302000.0</td>\n",
              "      <td>1.20</td>\n",
              "      <td>138</td>\n",
              "      <td>0</td>\n",
              "      <td>0</td>\n",
              "      <td>29</td>\n",
              "      <td>0</td>\n",
              "    </tr>\n",
              "    <tr>\n",
              "      <th>11</th>\n",
              "      <td>62.0</td>\n",
              "      <td>0</td>\n",
              "      <td>231</td>\n",
              "      <td>0</td>\n",
              "      <td>25</td>\n",
              "      <td>1</td>\n",
              "      <td>253000.0</td>\n",
              "      <td>0.90</td>\n",
              "      <td>140</td>\n",
              "      <td>1</td>\n",
              "      <td>1</td>\n",
              "      <td>10</td>\n",
              "      <td>1</td>\n",
              "    </tr>\n",
              "    <tr>\n",
              "      <th>243</th>\n",
              "      <td>73.0</td>\n",
              "      <td>1</td>\n",
              "      <td>1185</td>\n",
              "      <td>0</td>\n",
              "      <td>40</td>\n",
              "      <td>1</td>\n",
              "      <td>220000.0</td>\n",
              "      <td>0.90</td>\n",
              "      <td>141</td>\n",
              "      <td>0</td>\n",
              "      <td>0</td>\n",
              "      <td>213</td>\n",
              "      <td>0</td>\n",
              "    </tr>\n",
              "    <tr>\n",
              "      <th>269</th>\n",
              "      <td>40.0</td>\n",
              "      <td>0</td>\n",
              "      <td>582</td>\n",
              "      <td>1</td>\n",
              "      <td>35</td>\n",
              "      <td>0</td>\n",
              "      <td>222000.0</td>\n",
              "      <td>1.00</td>\n",
              "      <td>132</td>\n",
              "      <td>1</td>\n",
              "      <td>0</td>\n",
              "      <td>244</td>\n",
              "      <td>0</td>\n",
              "    </tr>\n",
              "    <tr>\n",
              "      <th>55</th>\n",
              "      <td>95.0</td>\n",
              "      <td>1</td>\n",
              "      <td>371</td>\n",
              "      <td>0</td>\n",
              "      <td>30</td>\n",
              "      <td>0</td>\n",
              "      <td>461000.0</td>\n",
              "      <td>2.00</td>\n",
              "      <td>132</td>\n",
              "      <td>1</td>\n",
              "      <td>0</td>\n",
              "      <td>50</td>\n",
              "      <td>1</td>\n",
              "    </tr>\n",
              "    <tr>\n",
              "      <th>22</th>\n",
              "      <td>68.0</td>\n",
              "      <td>1</td>\n",
              "      <td>220</td>\n",
              "      <td>0</td>\n",
              "      <td>35</td>\n",
              "      <td>1</td>\n",
              "      <td>289000.0</td>\n",
              "      <td>0.90</td>\n",
              "      <td>140</td>\n",
              "      <td>1</td>\n",
              "      <td>1</td>\n",
              "      <td>20</td>\n",
              "      <td>1</td>\n",
              "    </tr>\n",
              "    <tr>\n",
              "      <th>3</th>\n",
              "      <td>50.0</td>\n",
              "      <td>1</td>\n",
              "      <td>111</td>\n",
              "      <td>0</td>\n",
              "      <td>20</td>\n",
              "      <td>0</td>\n",
              "      <td>210000.0</td>\n",
              "      <td>1.90</td>\n",
              "      <td>137</td>\n",
              "      <td>1</td>\n",
              "      <td>0</td>\n",
              "      <td>7</td>\n",
              "      <td>1</td>\n",
              "    </tr>\n",
              "  </tbody>\n",
              "</table>\n",
              "</div>"
            ],
            "text/plain": [
              "      age  anaemia  creatinine_phosphokinase  ...  smoking  time  DEATH_EVENT\n",
              "193  73.0        1                       231  ...        1   180            0\n",
              "284  50.0        1                        54  ...        0   250            0\n",
              "195  77.0        1                       418  ...        0   180            1\n",
              "33   50.0        1                       159  ...        0    29            0\n",
              "11   62.0        0                       231  ...        1    10            1\n",
              "243  73.0        1                      1185  ...        0   213            0\n",
              "269  40.0        0                       582  ...        0   244            0\n",
              "55   95.0        1                       371  ...        0    50            1\n",
              "22   68.0        1                       220  ...        1    20            1\n",
              "3    50.0        1                       111  ...        0     7            1\n",
              "\n",
              "[10 rows x 13 columns]"
            ]
          },
          "metadata": {
            "tags": []
          },
          "execution_count": 174
        }
      ]
    },
    {
      "cell_type": "code",
      "metadata": {
        "colab": {
          "base_uri": "https://localhost:8080/"
        },
        "id": "1Y6OejQ4u9mk",
        "outputId": "5c5b7200-a43a-4ea8-f89d-9779a951365c"
      },
      "source": [
        "from sklearn.model_selection import train_test_split\r\n",
        "X = df.drop(['DEATH_EVENT'], axis=1)\r\n",
        "y = df['DEATH_EVENT']\r\n",
        "X.shape, y.shape"
      ],
      "execution_count": 175,
      "outputs": [
        {
          "output_type": "execute_result",
          "data": {
            "text/plain": [
              "((299, 12), (299,))"
            ]
          },
          "metadata": {
            "tags": []
          },
          "execution_count": 175
        }
      ]
    },
    {
      "cell_type": "code",
      "metadata": {
        "colab": {
          "base_uri": "https://localhost:8080/"
        },
        "id": "wKKjfPl2vGTn",
        "outputId": "f8104789-164e-48cb-d3d5-93c3e7c9ec94"
      },
      "source": [
        "y.value_counts()"
      ],
      "execution_count": 176,
      "outputs": [
        {
          "output_type": "execute_result",
          "data": {
            "text/plain": [
              "0    203\n",
              "1     96\n",
              "Name: DEATH_EVENT, dtype: int64"
            ]
          },
          "metadata": {
            "tags": []
          },
          "execution_count": 176
        }
      ]
    },
    {
      "cell_type": "code",
      "metadata": {
        "id": "SRY_V_uSwEds"
      },
      "source": [
        "X_train, X_test, y_train, y_test = train_test_split(X, y, stratify = y, test_size=0.25, random_state=69)"
      ],
      "execution_count": 177,
      "outputs": []
    },
    {
      "cell_type": "markdown",
      "metadata": {
        "id": "Z9nn6w1B4BeG"
      },
      "source": [
        "**SMOTE: Synthetic Minority Over-sampling**\r\n",
        "https://arxiv.org/pdf/1106.1813.pdf\r\n",
        "https://machinelearningmastery.com/smote-oversampling-for-imbalanced-classification/"
      ]
    },
    {
      "cell_type": "code",
      "metadata": {
        "colab": {
          "base_uri": "https://localhost:8080/",
          "height": 0
        },
        "id": "q466PbSxyQf4",
        "outputId": "3d2c1041-09f3-4fe3-a5d7-ea110ae2b2ce"
      },
      "source": [
        "from imblearn.over_sampling import SMOTE\r\n",
        "X_smote,y_smote = SMOTE().fit_sample(X,y)\r\n",
        "X_train, X_test, y_train, y_test = train_test_split(X_smote, y_smote, stratify = y_smote, test_size=0.25, random_state=69)\r\n",
        "print('Shape of X_train:', X_train.shape)\r\n",
        "print('Shape of X_test:', X_test.shape)\r\n",
        "print('Shape of y_train:', y_train.shape)\r\n",
        "print('Shape of y_test:', y_test.shape)\r\n",
        "\r\n",
        "counts = {int(value): list(y_smote).count(value) for value in set(y_smote)}\r\n",
        "print(counts)"
      ],
      "execution_count": 154,
      "outputs": [
        {
          "output_type": "stream",
          "text": [
            "Shape of X_train: (304, 12)\n",
            "Shape of X_test: (102, 12)\n",
            "Shape of y_train: (304,)\n",
            "Shape of y_test: (102,)\n",
            "{0: 203, 1: 203}\n"
          ],
          "name": "stdout"
        },
        {
          "output_type": "stream",
          "text": [
            "/usr/local/lib/python3.6/dist-packages/sklearn/utils/deprecation.py:87: FutureWarning: Function safe_indexing is deprecated; safe_indexing is deprecated in version 0.22 and will be removed in version 0.24.\n",
            "  warnings.warn(msg, category=FutureWarning)\n"
          ],
          "name": "stderr"
        }
      ]
    },
    {
      "cell_type": "code",
      "metadata": {
        "id": "mP9Mfx4xwOHY"
      },
      "source": [
        "from sklearn.metrics import confusion_matrix, classification_report, accuracy_score\r\n",
        "\r\n",
        "from sklearn.linear_model import LogisticRegression\r\n"
      ],
      "execution_count": 178,
      "outputs": []
    },
    {
      "cell_type": "code",
      "metadata": {
        "id": "9hKzqCuSwSrw"
      },
      "source": [
        "lr = LogisticRegression()\r\n",
        "model = lr.fit(X_train, y_train)\r\n",
        "y_pred = model.predict(X_test)"
      ],
      "execution_count": 179,
      "outputs": []
    },
    {
      "cell_type": "code",
      "metadata": {
        "colab": {
          "base_uri": "https://localhost:8080/",
          "height": 435
        },
        "id": "fEZMLQdBwWRR",
        "outputId": "c27dfb2f-a404-4817-fd2a-53d150e2e84a"
      },
      "source": [
        "print(classification_report(y_test, y_pred))\r\n",
        "\r\n",
        "      \r\n",
        "sns.heatmap(confusion_matrix(y_test,y_pred), cbar=False, annot=True)"
      ],
      "execution_count": 168,
      "outputs": [
        {
          "output_type": "stream",
          "text": [
            "              precision    recall  f1-score   support\n",
            "\n",
            "           0       0.90      0.92      0.91        51\n",
            "           1       0.92      0.90      0.91        51\n",
            "\n",
            "    accuracy                           0.91       102\n",
            "   macro avg       0.91      0.91      0.91       102\n",
            "weighted avg       0.91      0.91      0.91       102\n",
            "\n"
          ],
          "name": "stdout"
        },
        {
          "output_type": "execute_result",
          "data": {
            "text/plain": [
              "<matplotlib.axes._subplots.AxesSubplot at 0x7f49e029d908>"
            ]
          },
          "metadata": {
            "tags": []
          },
          "execution_count": 168
        },
        {
          "output_type": "display_data",
          "data": {
            "image/png": "[encoded data removed]",
            "text/plain": [
              "<Figure size 432x288 with 1 Axes>"
            ]
          },
          "metadata": {
            "tags": [],
            "needs_background": "light"
          }
        }
      ]
    },
    {
      "cell_type": "code",
      "metadata": {
        "id": "L-oYLyYvweG9"
      },
      "source": [
        "acclist = []\r\n",
        "ac = accuracy_score(y_test, y_pred)\r\n",
        "acclist.append(ac)"
      ],
      "execution_count": 157,
      "outputs": []
    },
    {
      "cell_type": "code",
      "metadata": {
        "id": "arQsoUV5wkgv"
      },
      "source": [
        "from sklearn.svm import SVC"
      ],
      "execution_count": 180,
      "outputs": []
    },
    {
      "cell_type": "code",
      "metadata": {
        "id": "BjePp4OSwmeR"
      },
      "source": [
        "svc = SVC(kernel='linear')\r\n",
        "model = svc.fit(X_train, y_train)\r\n",
        "y_pred = model.predict(X_test)"
      ],
      "execution_count": 181,
      "outputs": []
    },
    {
      "cell_type": "code",
      "metadata": {
        "id": "l9_k1skYwsVr",
        "colab": {
          "base_uri": "https://localhost:8080/",
          "height": 418
        },
        "outputId": "06315fca-b21c-466d-8591-9e783a705cfb"
      },
      "source": [
        "print(classification_report(y_test, y_pred))\r\n",
        "      \r\n",
        "sns.heatmap(confusion_matrix(y_test,y_pred), cbar=False, annot=True)\r\n",
        "\r\n",
        "ac = accuracy_score(y_test, y_pred)\r\n",
        "acclist.append(ac)"
      ],
      "execution_count": 182,
      "outputs": [
        {
          "output_type": "stream",
          "text": [
            "              precision    recall  f1-score   support\n",
            "\n",
            "           0       0.82      0.96      0.88        51\n",
            "           1       0.87      0.54      0.67        24\n",
            "\n",
            "    accuracy                           0.83        75\n",
            "   macro avg       0.84      0.75      0.77        75\n",
            "weighted avg       0.83      0.83      0.81        75\n",
            "\n"
          ],
          "name": "stdout"
        },
        {
          "output_type": "display_data",
          "data": {
            "image/png": "[encoded data removed]",
            "text/plain": [
              "<Figure size 432x288 with 1 Axes>"
            ]
          },
          "metadata": {
            "tags": [],
            "needs_background": "light"
          }
        }
      ]
    },
    {
      "cell_type": "code",
      "metadata": {
        "id": "9rQ1eQ8Mw01X"
      },
      "source": [
        "from sklearn.tree import DecisionTreeClassifier"
      ],
      "execution_count": 183,
      "outputs": []
    },
    {
      "cell_type": "code",
      "metadata": {
        "id": "E8vpribjw2pj"
      },
      "source": [
        "dt = DecisionTreeClassifier()\r\n",
        "model = dt.fit(X_train, y_train)\r\n",
        "y_pred = model.predict(X_test)"
      ],
      "execution_count": 184,
      "outputs": []
    },
    {
      "cell_type": "code",
      "metadata": {
        "colab": {
          "base_uri": "https://localhost:8080/",
          "height": 418
        },
        "id": "UOXCxfdgw5B7",
        "outputId": "4e80f068-a4b2-4beb-e807-ae5b9baf8036"
      },
      "source": [
        "print(classification_report(y_test, y_pred))\r\n",
        "      \r\n",
        "sns.heatmap(confusion_matrix(y_test,y_pred), cbar=False, annot=True)\r\n",
        "\r\n",
        "ac = accuracy_score(y_test, y_pred)\r\n",
        "acclist.append(ac)"
      ],
      "execution_count": 185,
      "outputs": [
        {
          "output_type": "stream",
          "text": [
            "              precision    recall  f1-score   support\n",
            "\n",
            "           0       0.81      0.92      0.86        51\n",
            "           1       0.76      0.54      0.63        24\n",
            "\n",
            "    accuracy                           0.80        75\n",
            "   macro avg       0.79      0.73      0.75        75\n",
            "weighted avg       0.80      0.80      0.79        75\n",
            "\n"
          ],
          "name": "stdout"
        },
        {
          "output_type": "display_data",
          "data": {
            "image/png": "[encoded data removed]",
            "text/plain": [
              "<Figure size 432x288 with 1 Axes>"
            ]
          },
          "metadata": {
            "tags": [],
            "needs_background": "light"
          }
        }
      ]
    },
    {
      "cell_type": "code",
      "metadata": {
        "id": "k60H2_e_xikR"
      },
      "source": [
        "from sklearn.ensemble import RandomForestClassifier"
      ],
      "execution_count": 186,
      "outputs": []
    },
    {
      "cell_type": "code",
      "metadata": {
        "id": "BFV5sWE7xkPi"
      },
      "source": [
        "rf = RandomForestClassifier(n_estimators=55)\r\n",
        "model = rf.fit(X_train, y_train)\r\n",
        "y_pred = model.predict(X_test)"
      ],
      "execution_count": 187,
      "outputs": []
    },
    {
      "cell_type": "code",
      "metadata": {
        "colab": {
          "base_uri": "https://localhost:8080/",
          "height": 418
        },
        "id": "SPuI37pQxkDB",
        "outputId": "f90d244e-c8f4-4d23-ae90-1d2d78799bc3"
      },
      "source": [
        "print(classification_report(y_test, y_pred))\r\n",
        "      \r\n",
        "sns.heatmap(confusion_matrix(y_test,y_pred), cbar=False, annot=True)\r\n",
        "\r\n",
        "ac = accuracy_score(y_test, y_pred)\r\n",
        "acclist.append(ac)"
      ],
      "execution_count": 188,
      "outputs": [
        {
          "output_type": "stream",
          "text": [
            "              precision    recall  f1-score   support\n",
            "\n",
            "           0       0.84      0.92      0.88        51\n",
            "           1       0.79      0.62      0.70        24\n",
            "\n",
            "    accuracy                           0.83        75\n",
            "   macro avg       0.81      0.77      0.79        75\n",
            "weighted avg       0.82      0.83      0.82        75\n",
            "\n"
          ],
          "name": "stdout"
        },
        {
          "output_type": "display_data",
          "data": {
            "image/png": "[encoded data removed]",
            "text/plain": [
              "<Figure size 432x288 with 1 Axes>"
            ]
          },
          "metadata": {
            "tags": [],
            "needs_background": "light"
          }
        }
      ]
    },
    {
      "cell_type": "code",
      "metadata": {
        "colab": {
          "base_uri": "https://localhost:8080/"
        },
        "id": "gGSEgbzrxELQ",
        "outputId": "8e35e087-2a2c-49f3-ba03-24863edbb61d"
      },
      "source": [
        "acclist"
      ],
      "execution_count": 198,
      "outputs": [
        {
          "output_type": "execute_result",
          "data": {
            "text/plain": [
              "[0.7647058823529411,\n",
              " 0.7549019607843137,\n",
              " 0.8431372549019608,\n",
              " 0.9117647058823529,\n",
              " 0.8266666666666667,\n",
              " 0.8,\n",
              " 0.8266666666666667]"
            ]
          },
          "metadata": {
            "tags": []
          },
          "execution_count": 198
        }
      ]
    },
    {
      "cell_type": "code",
      "metadata": {
        "id": "T25OANHNxIDS"
      },
      "source": [
        "models = ['Logistic Regression','SVM','Decision Tree', 'Random Forest']\r\n"
      ],
      "execution_count": 199,
      "outputs": []
    },
    {
      "cell_type": "code",
      "metadata": {
        "colab": {
          "base_uri": "https://localhost:8080/",
          "height": 392
        },
        "id": "ON8wN4luxPAv",
        "outputId": "0ee6f110-7af4-4b2f-8d76-af85fa5bc2ba"
      },
      "source": [
        "plt.figure(figsize=(15,10))\r\n",
        "sns.barplot(x=models, y=acclist)\r\n",
        "plt.xlabel('Classification Models')\r\n",
        "plt.ylabel('Accuracy')\r\n",
        "plt.show()"
      ],
      "execution_count": 200,
      "outputs": [
        {
          "output_type": "error",
          "ename": "KeyError",
          "evalue": "ignored",
          "traceback": [
            "\u001b[0;31m---------------------------------------------------------------------------\u001b[0m",
            "\u001b[0;31mKeyError\u001b[0m                                  Traceback (most recent call last)",
            "\u001b[0;32m<ipython-input-200-14a8439b7352>\u001b[0m in \u001b[0;36m<module>\u001b[0;34m()\u001b[0m\n\u001b[1;32m      1\u001b[0m \u001b[0mplt\u001b[0m\u001b[0;34m.\u001b[0m\u001b[0mfigure\u001b[0m\u001b[0;34m(\u001b[0m\u001b[0mfigsize\u001b[0m\u001b[0;34m=\u001b[0m\u001b[0;34m(\u001b[0m\u001b[0;36m15\u001b[0m\u001b[0;34m,\u001b[0m\u001b[0;36m10\u001b[0m\u001b[0;34m)\u001b[0m\u001b[0;34m)\u001b[0m\u001b[0;34m\u001b[0m\u001b[0;34m\u001b[0m\u001b[0m\n\u001b[0;32m----> 2\u001b[0;31m \u001b[0msns\u001b[0m\u001b[0;34m.\u001b[0m\u001b[0mbarplot\u001b[0m\u001b[0;34m(\u001b[0m\u001b[0mx\u001b[0m\u001b[0;34m=\u001b[0m\u001b[0mmodels\u001b[0m\u001b[0;34m,\u001b[0m \u001b[0my\u001b[0m\u001b[0;34m=\u001b[0m\u001b[0macclist\u001b[0m\u001b[0;34m)\u001b[0m\u001b[0;34m\u001b[0m\u001b[0;34m\u001b[0m\u001b[0m\n\u001b[0m\u001b[1;32m      3\u001b[0m \u001b[0mplt\u001b[0m\u001b[0;34m.\u001b[0m\u001b[0mxlabel\u001b[0m\u001b[0;34m(\u001b[0m\u001b[0;34m'Classification Models'\u001b[0m\u001b[0;34m)\u001b[0m\u001b[0;34m\u001b[0m\u001b[0;34m\u001b[0m\u001b[0m\n\u001b[1;32m      4\u001b[0m \u001b[0mplt\u001b[0m\u001b[0;34m.\u001b[0m\u001b[0mylabel\u001b[0m\u001b[0;34m(\u001b[0m\u001b[0;34m'Accuracy'\u001b[0m\u001b[0;34m)\u001b[0m\u001b[0;34m\u001b[0m\u001b[0;34m\u001b[0m\u001b[0m\n\u001b[1;32m      5\u001b[0m \u001b[0mplt\u001b[0m\u001b[0;34m.\u001b[0m\u001b[0mshow\u001b[0m\u001b[0;34m(\u001b[0m\u001b[0;34m)\u001b[0m\u001b[0;34m\u001b[0m\u001b[0;34m\u001b[0m\u001b[0m\n",
            "\u001b[0;32m/usr/local/lib/python3.6/dist-packages/seaborn/_decorators.py\u001b[0m in \u001b[0;36minner_f\u001b[0;34m(*args, **kwargs)\u001b[0m\n\u001b[1;32m     44\u001b[0m             )\n\u001b[1;32m     45\u001b[0m         \u001b[0mkwargs\u001b[0m\u001b[0;34m.\u001b[0m\u001b[0mupdate\u001b[0m\u001b[0;34m(\u001b[0m\u001b[0;34m{\u001b[0m\u001b[0mk\u001b[0m\u001b[0;34m:\u001b[0m \u001b[0marg\u001b[0m \u001b[0;32mfor\u001b[0m \u001b[0mk\u001b[0m\u001b[0;34m,\u001b[0m \u001b[0marg\u001b[0m \u001b[0;32min\u001b[0m \u001b[0mzip\u001b[0m\u001b[0;34m(\u001b[0m\u001b[0msig\u001b[0m\u001b[0;34m.\u001b[0m\u001b[0mparameters\u001b[0m\u001b[0;34m,\u001b[0m \u001b[0margs\u001b[0m\u001b[0;34m)\u001b[0m\u001b[0;34m}\u001b[0m\u001b[0;34m)\u001b[0m\u001b[0;34m\u001b[0m\u001b[0;34m\u001b[0m\u001b[0m\n\u001b[0;32m---> 46\u001b[0;31m         \u001b[0;32mreturn\u001b[0m \u001b[0mf\u001b[0m\u001b[0;34m(\u001b[0m\u001b[0;34m**\u001b[0m\u001b[0mkwargs\u001b[0m\u001b[0;34m)\u001b[0m\u001b[0;34m\u001b[0m\u001b[0;34m\u001b[0m\u001b[0m\n\u001b[0m\u001b[1;32m     47\u001b[0m     \u001b[0;32mreturn\u001b[0m \u001b[0minner_f\u001b[0m\u001b[0;34m\u001b[0m\u001b[0;34m\u001b[0m\u001b[0m\n\u001b[1;32m     48\u001b[0m \u001b[0;34m\u001b[0m\u001b[0m\n",
            "\u001b[0;32m/usr/local/lib/python3.6/dist-packages/seaborn/categorical.py\u001b[0m in \u001b[0;36mbarplot\u001b[0;34m(x, y, hue, data, order, hue_order, estimator, ci, n_boot, units, seed, orient, color, palette, saturation, errcolor, errwidth, capsize, dodge, ax, **kwargs)\u001b[0m\n\u001b[1;32m   3180\u001b[0m                           \u001b[0mestimator\u001b[0m\u001b[0;34m,\u001b[0m \u001b[0mci\u001b[0m\u001b[0;34m,\u001b[0m \u001b[0mn_boot\u001b[0m\u001b[0;34m,\u001b[0m \u001b[0munits\u001b[0m\u001b[0;34m,\u001b[0m \u001b[0mseed\u001b[0m\u001b[0;34m,\u001b[0m\u001b[0;34m\u001b[0m\u001b[0;34m\u001b[0m\u001b[0m\n\u001b[1;32m   3181\u001b[0m                           \u001b[0morient\u001b[0m\u001b[0;34m,\u001b[0m \u001b[0mcolor\u001b[0m\u001b[0;34m,\u001b[0m \u001b[0mpalette\u001b[0m\u001b[0;34m,\u001b[0m \u001b[0msaturation\u001b[0m\u001b[0;34m,\u001b[0m\u001b[0;34m\u001b[0m\u001b[0;34m\u001b[0m\u001b[0m\n\u001b[0;32m-> 3182\u001b[0;31m                           errcolor, errwidth, capsize, dodge)\n\u001b[0m\u001b[1;32m   3183\u001b[0m \u001b[0;34m\u001b[0m\u001b[0m\n\u001b[1;32m   3184\u001b[0m     \u001b[0;32mif\u001b[0m \u001b[0max\u001b[0m \u001b[0;32mis\u001b[0m \u001b[0;32mNone\u001b[0m\u001b[0;34m:\u001b[0m\u001b[0;34m\u001b[0m\u001b[0;34m\u001b[0m\u001b[0m\n",
            "\u001b[0;32m/usr/local/lib/python3.6/dist-packages/seaborn/categorical.py\u001b[0m in \u001b[0;36m__init__\u001b[0;34m(self, x, y, hue, data, order, hue_order, estimator, ci, n_boot, units, seed, orient, color, palette, saturation, errcolor, errwidth, capsize, dodge)\u001b[0m\n\u001b[1;32m   1583\u001b[0m         \u001b[0;34m\"\"\"Initialize the plotter.\"\"\"\u001b[0m\u001b[0;34m\u001b[0m\u001b[0;34m\u001b[0m\u001b[0m\n\u001b[1;32m   1584\u001b[0m         self.establish_variables(x, y, hue, data, orient,\n\u001b[0;32m-> 1585\u001b[0;31m                                  order, hue_order, units)\n\u001b[0m\u001b[1;32m   1586\u001b[0m         \u001b[0mself\u001b[0m\u001b[0;34m.\u001b[0m\u001b[0mestablish_colors\u001b[0m\u001b[0;34m(\u001b[0m\u001b[0mcolor\u001b[0m\u001b[0;34m,\u001b[0m \u001b[0mpalette\u001b[0m\u001b[0;34m,\u001b[0m \u001b[0msaturation\u001b[0m\u001b[0;34m)\u001b[0m\u001b[0;34m\u001b[0m\u001b[0;34m\u001b[0m\u001b[0m\n\u001b[1;32m   1587\u001b[0m         \u001b[0mself\u001b[0m\u001b[0;34m.\u001b[0m\u001b[0mestimate_statistic\u001b[0m\u001b[0;34m(\u001b[0m\u001b[0mestimator\u001b[0m\u001b[0;34m,\u001b[0m \u001b[0mci\u001b[0m\u001b[0;34m,\u001b[0m \u001b[0mn_boot\u001b[0m\u001b[0;34m,\u001b[0m \u001b[0mseed\u001b[0m\u001b[0;34m)\u001b[0m\u001b[0;34m\u001b[0m\u001b[0;34m\u001b[0m\u001b[0m\n",
            "\u001b[0;32m/usr/local/lib/python3.6/dist-packages/seaborn/categorical.py\u001b[0m in \u001b[0;36mestablish_variables\u001b[0;34m(self, x, y, hue, data, orient, order, hue_order, units)\u001b[0m\n\u001b[1;32m    205\u001b[0m                 \u001b[0;31m# Group the numeric data\u001b[0m\u001b[0;34m\u001b[0m\u001b[0;34m\u001b[0m\u001b[0;34m\u001b[0m\u001b[0m\n\u001b[1;32m    206\u001b[0m                 plot_data, value_label = self._group_longform(vals, groups,\n\u001b[0;32m--> 207\u001b[0;31m                                                               group_names)\n\u001b[0m\u001b[1;32m    208\u001b[0m \u001b[0;34m\u001b[0m\u001b[0m\n\u001b[1;32m    209\u001b[0m                 \u001b[0;31m# Now handle the hue levels for nested ordering\u001b[0m\u001b[0;34m\u001b[0m\u001b[0;34m\u001b[0m\u001b[0;34m\u001b[0m\u001b[0m\n",
            "\u001b[0;32m/usr/local/lib/python3.6/dist-packages/seaborn/categorical.py\u001b[0m in \u001b[0;36m_group_longform\u001b[0;34m(self, vals, grouper, order)\u001b[0m\n\u001b[1;32m    251\u001b[0m \u001b[0;34m\u001b[0m\u001b[0m\n\u001b[1;32m    252\u001b[0m         \u001b[0;31m# Group the val data\u001b[0m\u001b[0;34m\u001b[0m\u001b[0;34m\u001b[0m\u001b[0;34m\u001b[0m\u001b[0m\n\u001b[0;32m--> 253\u001b[0;31m         \u001b[0mgrouped_vals\u001b[0m \u001b[0;34m=\u001b[0m \u001b[0mvals\u001b[0m\u001b[0;34m.\u001b[0m\u001b[0mgroupby\u001b[0m\u001b[0;34m(\u001b[0m\u001b[0mgrouper\u001b[0m\u001b[0;34m)\u001b[0m\u001b[0;34m\u001b[0m\u001b[0;34m\u001b[0m\u001b[0m\n\u001b[0m\u001b[1;32m    254\u001b[0m         \u001b[0mout_data\u001b[0m \u001b[0;34m=\u001b[0m \u001b[0;34m[\u001b[0m\u001b[0;34m]\u001b[0m\u001b[0;34m\u001b[0m\u001b[0;34m\u001b[0m\u001b[0m\n\u001b[1;32m    255\u001b[0m         \u001b[0;32mfor\u001b[0m \u001b[0mg\u001b[0m \u001b[0;32min\u001b[0m \u001b[0morder\u001b[0m\u001b[0;34m:\u001b[0m\u001b[0;34m\u001b[0m\u001b[0;34m\u001b[0m\u001b[0m\n",
            "\u001b[0;32m/usr/local/lib/python3.6/dist-packages/pandas/core/series.py\u001b[0m in \u001b[0;36mgroupby\u001b[0;34m(self, by, axis, level, as_index, sort, group_keys, squeeze, observed, dropna)\u001b[0m\n\u001b[1;32m   1744\u001b[0m             \u001b[0msqueeze\u001b[0m\u001b[0;34m=\u001b[0m\u001b[0msqueeze\u001b[0m\u001b[0;34m,\u001b[0m\u001b[0;34m\u001b[0m\u001b[0;34m\u001b[0m\u001b[0m\n\u001b[1;32m   1745\u001b[0m             \u001b[0mobserved\u001b[0m\u001b[0;34m=\u001b[0m\u001b[0mobserved\u001b[0m\u001b[0;34m,\u001b[0m\u001b[0;34m\u001b[0m\u001b[0;34m\u001b[0m\u001b[0m\n\u001b[0;32m-> 1746\u001b[0;31m             \u001b[0mdropna\u001b[0m\u001b[0;34m=\u001b[0m\u001b[0mdropna\u001b[0m\u001b[0;34m,\u001b[0m\u001b[0;34m\u001b[0m\u001b[0;34m\u001b[0m\u001b[0m\n\u001b[0m\u001b[1;32m   1747\u001b[0m         )\n\u001b[1;32m   1748\u001b[0m \u001b[0;34m\u001b[0m\u001b[0m\n",
            "\u001b[0;32m/usr/local/lib/python3.6/dist-packages/pandas/core/groupby/groupby.py\u001b[0m in \u001b[0;36m__init__\u001b[0;34m(self, obj, keys, axis, level, grouper, exclusions, selection, as_index, sort, group_keys, squeeze, observed, mutated, dropna)\u001b[0m\n\u001b[1;32m    531\u001b[0m                 \u001b[0mobserved\u001b[0m\u001b[0;34m=\u001b[0m\u001b[0mobserved\u001b[0m\u001b[0;34m,\u001b[0m\u001b[0;34m\u001b[0m\u001b[0;34m\u001b[0m\u001b[0m\n\u001b[1;32m    532\u001b[0m                 \u001b[0mmutated\u001b[0m\u001b[0;34m=\u001b[0m\u001b[0mself\u001b[0m\u001b[0;34m.\u001b[0m\u001b[0mmutated\u001b[0m\u001b[0;34m,\u001b[0m\u001b[0;34m\u001b[0m\u001b[0;34m\u001b[0m\u001b[0m\n\u001b[0;32m--> 533\u001b[0;31m                 \u001b[0mdropna\u001b[0m\u001b[0;34m=\u001b[0m\u001b[0mself\u001b[0m\u001b[0;34m.\u001b[0m\u001b[0mdropna\u001b[0m\u001b[0;34m,\u001b[0m\u001b[0;34m\u001b[0m\u001b[0;34m\u001b[0m\u001b[0m\n\u001b[0m\u001b[1;32m    534\u001b[0m             )\n\u001b[1;32m    535\u001b[0m \u001b[0;34m\u001b[0m\u001b[0m\n",
            "\u001b[0;32m/usr/local/lib/python3.6/dist-packages/pandas/core/groupby/grouper.py\u001b[0m in \u001b[0;36mget_grouper\u001b[0;34m(obj, key, axis, level, sort, observed, mutated, validate, dropna)\u001b[0m\n\u001b[1;32m    784\u001b[0m                 \u001b[0min_axis\u001b[0m\u001b[0;34m,\u001b[0m \u001b[0mname\u001b[0m\u001b[0;34m,\u001b[0m \u001b[0mlevel\u001b[0m\u001b[0;34m,\u001b[0m \u001b[0mgpr\u001b[0m \u001b[0;34m=\u001b[0m \u001b[0;32mFalse\u001b[0m\u001b[0;34m,\u001b[0m \u001b[0;32mNone\u001b[0m\u001b[0;34m,\u001b[0m \u001b[0mgpr\u001b[0m\u001b[0;34m,\u001b[0m \u001b[0;32mNone\u001b[0m\u001b[0;34m\u001b[0m\u001b[0;34m\u001b[0m\u001b[0m\n\u001b[1;32m    785\u001b[0m             \u001b[0;32melse\u001b[0m\u001b[0;34m:\u001b[0m\u001b[0;34m\u001b[0m\u001b[0;34m\u001b[0m\u001b[0m\n\u001b[0;32m--> 786\u001b[0;31m                 \u001b[0;32mraise\u001b[0m \u001b[0mKeyError\u001b[0m\u001b[0;34m(\u001b[0m\u001b[0mgpr\u001b[0m\u001b[0;34m)\u001b[0m\u001b[0;34m\u001b[0m\u001b[0;34m\u001b[0m\u001b[0m\n\u001b[0m\u001b[1;32m    787\u001b[0m         \u001b[0;32melif\u001b[0m \u001b[0misinstance\u001b[0m\u001b[0;34m(\u001b[0m\u001b[0mgpr\u001b[0m\u001b[0;34m,\u001b[0m \u001b[0mGrouper\u001b[0m\u001b[0;34m)\u001b[0m \u001b[0;32mand\u001b[0m \u001b[0mgpr\u001b[0m\u001b[0;34m.\u001b[0m\u001b[0mkey\u001b[0m \u001b[0;32mis\u001b[0m \u001b[0;32mnot\u001b[0m \u001b[0;32mNone\u001b[0m\u001b[0;34m:\u001b[0m\u001b[0;34m\u001b[0m\u001b[0;34m\u001b[0m\u001b[0m\n\u001b[1;32m    788\u001b[0m             \u001b[0;31m# Add key to exclusions\u001b[0m\u001b[0;34m\u001b[0m\u001b[0;34m\u001b[0m\u001b[0;34m\u001b[0m\u001b[0m\n",
            "\u001b[0;31mKeyError\u001b[0m: 'Logistic Regression'"
          ]
        },
        {
          "output_type": "display_data",
          "data": {
            "text/plain": [
              "<Figure size 1080x720 with 0 Axes>"
            ]
          },
          "metadata": {
            "tags": []
          }
        }
      ]
    },
    {
      "cell_type": "code",
      "metadata": {
        "colab": {
          "base_uri": "https://localhost:8080/",
          "height": 392
        },
        "id": "Ux1dAIPQ04Ab",
        "outputId": "0454c145-0799-4af0-d880-48501d281299"
      },
      "source": [
        "plt.figure(figsize=(15,10))\r\n",
        "sns.barplot(x=models, y=acclist)\r\n",
        "plt.xlabel('Classification Models')\r\n",
        "plt.ylabel('Accuracy')\r\n",
        "plt.show()"
      ],
      "execution_count": 192,
      "outputs": [
        {
          "output_type": "error",
          "ename": "KeyError",
          "evalue": "ignored",
          "traceback": [
            "\u001b[0;31m---------------------------------------------------------------------------\u001b[0m",
            "\u001b[0;31mKeyError\u001b[0m                                  Traceback (most recent call last)",
            "\u001b[0;32m<ipython-input-192-14a8439b7352>\u001b[0m in \u001b[0;36m<module>\u001b[0;34m()\u001b[0m\n\u001b[1;32m      1\u001b[0m \u001b[0mplt\u001b[0m\u001b[0;34m.\u001b[0m\u001b[0mfigure\u001b[0m\u001b[0;34m(\u001b[0m\u001b[0mfigsize\u001b[0m\u001b[0;34m=\u001b[0m\u001b[0;34m(\u001b[0m\u001b[0;36m15\u001b[0m\u001b[0;34m,\u001b[0m\u001b[0;36m10\u001b[0m\u001b[0;34m)\u001b[0m\u001b[0;34m)\u001b[0m\u001b[0;34m\u001b[0m\u001b[0;34m\u001b[0m\u001b[0m\n\u001b[0;32m----> 2\u001b[0;31m \u001b[0msns\u001b[0m\u001b[0;34m.\u001b[0m\u001b[0mbarplot\u001b[0m\u001b[0;34m(\u001b[0m\u001b[0mx\u001b[0m\u001b[0;34m=\u001b[0m\u001b[0mmodels\u001b[0m\u001b[0;34m,\u001b[0m \u001b[0my\u001b[0m\u001b[0;34m=\u001b[0m\u001b[0macclist\u001b[0m\u001b[0;34m)\u001b[0m\u001b[0;34m\u001b[0m\u001b[0;34m\u001b[0m\u001b[0m\n\u001b[0m\u001b[1;32m      3\u001b[0m \u001b[0mplt\u001b[0m\u001b[0;34m.\u001b[0m\u001b[0mxlabel\u001b[0m\u001b[0;34m(\u001b[0m\u001b[0;34m'Classification Models'\u001b[0m\u001b[0;34m)\u001b[0m\u001b[0;34m\u001b[0m\u001b[0;34m\u001b[0m\u001b[0m\n\u001b[1;32m      4\u001b[0m \u001b[0mplt\u001b[0m\u001b[0;34m.\u001b[0m\u001b[0mylabel\u001b[0m\u001b[0;34m(\u001b[0m\u001b[0;34m'Accuracy'\u001b[0m\u001b[0;34m)\u001b[0m\u001b[0;34m\u001b[0m\u001b[0;34m\u001b[0m\u001b[0m\n\u001b[1;32m      5\u001b[0m \u001b[0mplt\u001b[0m\u001b[0;34m.\u001b[0m\u001b[0mshow\u001b[0m\u001b[0;34m(\u001b[0m\u001b[0;34m)\u001b[0m\u001b[0;34m\u001b[0m\u001b[0;34m\u001b[0m\u001b[0m\n",
            "\u001b[0;32m/usr/local/lib/python3.6/dist-packages/seaborn/_decorators.py\u001b[0m in \u001b[0;36minner_f\u001b[0;34m(*args, **kwargs)\u001b[0m\n\u001b[1;32m     44\u001b[0m             )\n\u001b[1;32m     45\u001b[0m         \u001b[0mkwargs\u001b[0m\u001b[0;34m.\u001b[0m\u001b[0mupdate\u001b[0m\u001b[0;34m(\u001b[0m\u001b[0;34m{\u001b[0m\u001b[0mk\u001b[0m\u001b[0;34m:\u001b[0m \u001b[0marg\u001b[0m \u001b[0;32mfor\u001b[0m \u001b[0mk\u001b[0m\u001b[0;34m,\u001b[0m \u001b[0marg\u001b[0m \u001b[0;32min\u001b[0m \u001b[0mzip\u001b[0m\u001b[0;34m(\u001b[0m\u001b[0msig\u001b[0m\u001b[0;34m.\u001b[0m\u001b[0mparameters\u001b[0m\u001b[0;34m,\u001b[0m \u001b[0margs\u001b[0m\u001b[0;34m)\u001b[0m\u001b[0;34m}\u001b[0m\u001b[0;34m)\u001b[0m\u001b[0;34m\u001b[0m\u001b[0;34m\u001b[0m\u001b[0m\n\u001b[0;32m---> 46\u001b[0;31m         \u001b[0;32mreturn\u001b[0m \u001b[0mf\u001b[0m\u001b[0;34m(\u001b[0m\u001b[0;34m**\u001b[0m\u001b[0mkwargs\u001b[0m\u001b[0;34m)\u001b[0m\u001b[0;34m\u001b[0m\u001b[0;34m\u001b[0m\u001b[0m\n\u001b[0m\u001b[1;32m     47\u001b[0m     \u001b[0;32mreturn\u001b[0m \u001b[0minner_f\u001b[0m\u001b[0;34m\u001b[0m\u001b[0;34m\u001b[0m\u001b[0m\n\u001b[1;32m     48\u001b[0m \u001b[0;34m\u001b[0m\u001b[0m\n",
            "\u001b[0;32m/usr/local/lib/python3.6/dist-packages/seaborn/categorical.py\u001b[0m in \u001b[0;36mbarplot\u001b[0;34m(x, y, hue, data, order, hue_order, estimator, ci, n_boot, units, seed, orient, color, palette, saturation, errcolor, errwidth, capsize, dodge, ax, **kwargs)\u001b[0m\n\u001b[1;32m   3180\u001b[0m                           \u001b[0mestimator\u001b[0m\u001b[0;34m,\u001b[0m \u001b[0mci\u001b[0m\u001b[0;34m,\u001b[0m \u001b[0mn_boot\u001b[0m\u001b[0;34m,\u001b[0m \u001b[0munits\u001b[0m\u001b[0;34m,\u001b[0m \u001b[0mseed\u001b[0m\u001b[0;34m,\u001b[0m\u001b[0;34m\u001b[0m\u001b[0;34m\u001b[0m\u001b[0m\n\u001b[1;32m   3181\u001b[0m                           \u001b[0morient\u001b[0m\u001b[0;34m,\u001b[0m \u001b[0mcolor\u001b[0m\u001b[0;34m,\u001b[0m \u001b[0mpalette\u001b[0m\u001b[0;34m,\u001b[0m \u001b[0msaturation\u001b[0m\u001b[0;34m,\u001b[0m\u001b[0;34m\u001b[0m\u001b[0;34m\u001b[0m\u001b[0m\n\u001b[0;32m-> 3182\u001b[0;31m                           errcolor, errwidth, capsize, dodge)\n\u001b[0m\u001b[1;32m   3183\u001b[0m \u001b[0;34m\u001b[0m\u001b[0m\n\u001b[1;32m   3184\u001b[0m     \u001b[0;32mif\u001b[0m \u001b[0max\u001b[0m \u001b[0;32mis\u001b[0m \u001b[0;32mNone\u001b[0m\u001b[0;34m:\u001b[0m\u001b[0;34m\u001b[0m\u001b[0;34m\u001b[0m\u001b[0m\n",
            "\u001b[0;32m/usr/local/lib/python3.6/dist-packages/seaborn/categorical.py\u001b[0m in \u001b[0;36m__init__\u001b[0;34m(self, x, y, hue, data, order, hue_order, estimator, ci, n_boot, units, seed, orient, color, palette, saturation, errcolor, errwidth, capsize, dodge)\u001b[0m\n\u001b[1;32m   1583\u001b[0m         \u001b[0;34m\"\"\"Initialize the plotter.\"\"\"\u001b[0m\u001b[0;34m\u001b[0m\u001b[0;34m\u001b[0m\u001b[0m\n\u001b[1;32m   1584\u001b[0m         self.establish_variables(x, y, hue, data, orient,\n\u001b[0;32m-> 1585\u001b[0;31m                                  order, hue_order, units)\n\u001b[0m\u001b[1;32m   1586\u001b[0m         \u001b[0mself\u001b[0m\u001b[0;34m.\u001b[0m\u001b[0mestablish_colors\u001b[0m\u001b[0;34m(\u001b[0m\u001b[0mcolor\u001b[0m\u001b[0;34m,\u001b[0m \u001b[0mpalette\u001b[0m\u001b[0;34m,\u001b[0m \u001b[0msaturation\u001b[0m\u001b[0;34m)\u001b[0m\u001b[0;34m\u001b[0m\u001b[0;34m\u001b[0m\u001b[0m\n\u001b[1;32m   1587\u001b[0m         \u001b[0mself\u001b[0m\u001b[0;34m.\u001b[0m\u001b[0mestimate_statistic\u001b[0m\u001b[0;34m(\u001b[0m\u001b[0mestimator\u001b[0m\u001b[0;34m,\u001b[0m \u001b[0mci\u001b[0m\u001b[0;34m,\u001b[0m \u001b[0mn_boot\u001b[0m\u001b[0;34m,\u001b[0m \u001b[0mseed\u001b[0m\u001b[0;34m)\u001b[0m\u001b[0;34m\u001b[0m\u001b[0;34m\u001b[0m\u001b[0m\n",
            "\u001b[0;32m/usr/local/lib/python3.6/dist-packages/seaborn/categorical.py\u001b[0m in \u001b[0;36mestablish_variables\u001b[0;34m(self, x, y, hue, data, orient, order, hue_order, units)\u001b[0m\n\u001b[1;32m    205\u001b[0m                 \u001b[0;31m# Group the numeric data\u001b[0m\u001b[0;34m\u001b[0m\u001b[0;34m\u001b[0m\u001b[0;34m\u001b[0m\u001b[0m\n\u001b[1;32m    206\u001b[0m                 plot_data, value_label = self._group_longform(vals, groups,\n\u001b[0;32m--> 207\u001b[0;31m                                                               group_names)\n\u001b[0m\u001b[1;32m    208\u001b[0m \u001b[0;34m\u001b[0m\u001b[0m\n\u001b[1;32m    209\u001b[0m                 \u001b[0;31m# Now handle the hue levels for nested ordering\u001b[0m\u001b[0;34m\u001b[0m\u001b[0;34m\u001b[0m\u001b[0;34m\u001b[0m\u001b[0m\n",
            "\u001b[0;32m/usr/local/lib/python3.6/dist-packages/seaborn/categorical.py\u001b[0m in \u001b[0;36m_group_longform\u001b[0;34m(self, vals, grouper, order)\u001b[0m\n\u001b[1;32m    251\u001b[0m \u001b[0;34m\u001b[0m\u001b[0m\n\u001b[1;32m    252\u001b[0m         \u001b[0;31m# Group the val data\u001b[0m\u001b[0;34m\u001b[0m\u001b[0;34m\u001b[0m\u001b[0;34m\u001b[0m\u001b[0m\n\u001b[0;32m--> 253\u001b[0;31m         \u001b[0mgrouped_vals\u001b[0m \u001b[0;34m=\u001b[0m \u001b[0mvals\u001b[0m\u001b[0;34m.\u001b[0m\u001b[0mgroupby\u001b[0m\u001b[0;34m(\u001b[0m\u001b[0mgrouper\u001b[0m\u001b[0;34m)\u001b[0m\u001b[0;34m\u001b[0m\u001b[0;34m\u001b[0m\u001b[0m\n\u001b[0m\u001b[1;32m    254\u001b[0m         \u001b[0mout_data\u001b[0m \u001b[0;34m=\u001b[0m \u001b[0;34m[\u001b[0m\u001b[0;34m]\u001b[0m\u001b[0;34m\u001b[0m\u001b[0;34m\u001b[0m\u001b[0m\n\u001b[1;32m    255\u001b[0m         \u001b[0;32mfor\u001b[0m \u001b[0mg\u001b[0m \u001b[0;32min\u001b[0m \u001b[0morder\u001b[0m\u001b[0;34m:\u001b[0m\u001b[0;34m\u001b[0m\u001b[0;34m\u001b[0m\u001b[0m\n",
            "\u001b[0;32m/usr/local/lib/python3.6/dist-packages/pandas/core/series.py\u001b[0m in \u001b[0;36mgroupby\u001b[0;34m(self, by, axis, level, as_index, sort, group_keys, squeeze, observed, dropna)\u001b[0m\n\u001b[1;32m   1744\u001b[0m             \u001b[0msqueeze\u001b[0m\u001b[0;34m=\u001b[0m\u001b[0msqueeze\u001b[0m\u001b[0;34m,\u001b[0m\u001b[0;34m\u001b[0m\u001b[0;34m\u001b[0m\u001b[0m\n\u001b[1;32m   1745\u001b[0m             \u001b[0mobserved\u001b[0m\u001b[0;34m=\u001b[0m\u001b[0mobserved\u001b[0m\u001b[0;34m,\u001b[0m\u001b[0;34m\u001b[0m\u001b[0;34m\u001b[0m\u001b[0m\n\u001b[0;32m-> 1746\u001b[0;31m             \u001b[0mdropna\u001b[0m\u001b[0;34m=\u001b[0m\u001b[0mdropna\u001b[0m\u001b[0;34m,\u001b[0m\u001b[0;34m\u001b[0m\u001b[0;34m\u001b[0m\u001b[0m\n\u001b[0m\u001b[1;32m   1747\u001b[0m         )\n\u001b[1;32m   1748\u001b[0m \u001b[0;34m\u001b[0m\u001b[0m\n",
            "\u001b[0;32m/usr/local/lib/python3.6/dist-packages/pandas/core/groupby/groupby.py\u001b[0m in \u001b[0;36m__init__\u001b[0;34m(self, obj, keys, axis, level, grouper, exclusions, selection, as_index, sort, group_keys, squeeze, observed, mutated, dropna)\u001b[0m\n\u001b[1;32m    531\u001b[0m                 \u001b[0mobserved\u001b[0m\u001b[0;34m=\u001b[0m\u001b[0mobserved\u001b[0m\u001b[0;34m,\u001b[0m\u001b[0;34m\u001b[0m\u001b[0;34m\u001b[0m\u001b[0m\n\u001b[1;32m    532\u001b[0m                 \u001b[0mmutated\u001b[0m\u001b[0;34m=\u001b[0m\u001b[0mself\u001b[0m\u001b[0;34m.\u001b[0m\u001b[0mmutated\u001b[0m\u001b[0;34m,\u001b[0m\u001b[0;34m\u001b[0m\u001b[0;34m\u001b[0m\u001b[0m\n\u001b[0;32m--> 533\u001b[0;31m                 \u001b[0mdropna\u001b[0m\u001b[0;34m=\u001b[0m\u001b[0mself\u001b[0m\u001b[0;34m.\u001b[0m\u001b[0mdropna\u001b[0m\u001b[0;34m,\u001b[0m\u001b[0;34m\u001b[0m\u001b[0;34m\u001b[0m\u001b[0m\n\u001b[0m\u001b[1;32m    534\u001b[0m             )\n\u001b[1;32m    535\u001b[0m \u001b[0;34m\u001b[0m\u001b[0m\n",
            "\u001b[0;32m/usr/local/lib/python3.6/dist-packages/pandas/core/groupby/grouper.py\u001b[0m in \u001b[0;36mget_grouper\u001b[0;34m(obj, key, axis, level, sort, observed, mutated, validate, dropna)\u001b[0m\n\u001b[1;32m    784\u001b[0m                 \u001b[0min_axis\u001b[0m\u001b[0;34m,\u001b[0m \u001b[0mname\u001b[0m\u001b[0;34m,\u001b[0m \u001b[0mlevel\u001b[0m\u001b[0;34m,\u001b[0m \u001b[0mgpr\u001b[0m \u001b[0;34m=\u001b[0m \u001b[0;32mFalse\u001b[0m\u001b[0;34m,\u001b[0m \u001b[0;32mNone\u001b[0m\u001b[0;34m,\u001b[0m \u001b[0mgpr\u001b[0m\u001b[0;34m,\u001b[0m \u001b[0;32mNone\u001b[0m\u001b[0;34m\u001b[0m\u001b[0;34m\u001b[0m\u001b[0m\n\u001b[1;32m    785\u001b[0m             \u001b[0;32melse\u001b[0m\u001b[0;34m:\u001b[0m\u001b[0;34m\u001b[0m\u001b[0;34m\u001b[0m\u001b[0m\n\u001b[0;32m--> 786\u001b[0;31m                 \u001b[0;32mraise\u001b[0m \u001b[0mKeyError\u001b[0m\u001b[0;34m(\u001b[0m\u001b[0mgpr\u001b[0m\u001b[0;34m)\u001b[0m\u001b[0;34m\u001b[0m\u001b[0;34m\u001b[0m\u001b[0m\n\u001b[0m\u001b[1;32m    787\u001b[0m         \u001b[0;32melif\u001b[0m \u001b[0misinstance\u001b[0m\u001b[0;34m(\u001b[0m\u001b[0mgpr\u001b[0m\u001b[0;34m,\u001b[0m \u001b[0mGrouper\u001b[0m\u001b[0;34m)\u001b[0m \u001b[0;32mand\u001b[0m \u001b[0mgpr\u001b[0m\u001b[0;34m.\u001b[0m\u001b[0mkey\u001b[0m \u001b[0;32mis\u001b[0m \u001b[0;32mnot\u001b[0m \u001b[0;32mNone\u001b[0m\u001b[0;34m:\u001b[0m\u001b[0;34m\u001b[0m\u001b[0;34m\u001b[0m\u001b[0m\n\u001b[1;32m    788\u001b[0m             \u001b[0;31m# Add key to exclusions\u001b[0m\u001b[0;34m\u001b[0m\u001b[0;34m\u001b[0m\u001b[0;34m\u001b[0m\u001b[0m\n",
            "\u001b[0;31mKeyError\u001b[0m: 'Logistic Regression'"
          ]
        },
        {
          "output_type": "display_data",
          "data": {
            "text/plain": [
              "<Figure size 1080x720 with 0 Axes>"
            ]
          },
          "metadata": {
            "tags": []
          }
        }
      ]
    },
    {
      "cell_type": "markdown",
      "metadata": {
        "id": "cEe2VQ6k5Eu4"
      },
      "source": [
        "![comparare.PNG](data:image/png;base64,iVBORw0KGgoAAAANSUhEUgAABzIAAAKzCAYAAAB1d0tmAAAAAXNSR0IArs4c6QAAAARnQU1BAACxjwv8YQUAAAAJcEhZcwAADsMAAA7DAcdvqGQAAKy6SURBVHhe7N0LuKZnWdh72O4eN9paqIpiMBMTTJpMYgUDAyoGmlLEC6ScLMK2RhJrVMpG2LZe2XJIE2pFEBSMtogRpTbsS0MNKQXZ0mK6RcQqCSghAUGtKexwkChDDu/mefN9w8rKPZN5M/O8ue95fv/r+l1Z61tzWLMya9b9fPf63u9ekyRJkiRJkiRJkiQlyyJTkiRJkiRJkiRJUrosMiVJkiRJkiRJkiSlyyJTkiRJkiRJkiRJUrosMiVJkiRJkiRJkiSlyyJTkiRJkiRJkiRJUrosMiVJkiRJkiRJkiSlyyJTkiRJkiRJkiRJUrosMiVJkiRJkiRJkiSlyyJTkiRJkiRJkiRJUrosMiVJkiRJkiRJkiSlyyJTkiRJkiRJkiRJUrosMiVJkiRJkiRJkiSla6hF5n3ve9/p677u6wAAAIZ0v/vdb3M6kiRJkiQpf0MtMtvBXZIkSZJGzZlIkiRJklQpi0xJkiRJGqSjdSb6b//tv00vf/nLD6n9GEmSJEmSjiSLTEmSJEkapKN1JmqLyuOPP/6Q2o+RJEmSJOlIssiUJEmSpEE62ovMg2WRKUmSJEk6GllkSpIkSdIgrbXIbG93adnbu+997zt/3AEAAEZ0v/vdb3M6untZZEqSJEnSIB2tM9FdLTK3ffKTn5x/7DXXXLO5ZbycQyVJkiSN3JGeiSwyJUmSJGmQ1l5kti677LJp7969wy4znUMlSZIkjZxF5oIcICVJkiSN3FqLzHZZ2fZjtr7lW75lOv3004dcZjqHSpIkSRo5i8wFOUBKkiRJGrl7apH52Mc+dthHZTqHSpIkSRo5i8wFOUBKkiRJGrm1Fpk7c2lZ51BJkiRJ42aRuSAHSEmSJEkjt/Yi85Of/OT8Y0ddYracQyVJkiSNnEXmghwgJUmSJI3cWovM9vZ2eVk5h0qSJEkaO4vMBTlASpIkSRq5tRaZ7W3tx8g5VJIkSdLYWWQuyAFSkiRJ0sgd7UXmoVhk3p5zqCRJkqSRs8hckAOkJEmSpJE7WmeidtnYtqg8FJeWvT3nUEmSJEkjZ5G5IAdISZIkSSPnTLR+PuaSJEmSRs4ic0EOkJIkSZJGzplo/XzMJUmSJI2cReaCHCAlSZIkjZwz0fr5mEuSJEkaOYvMBTlASpIkSRo5Z6L18zGXJEmSNHIWmQtygJQkSZI0cs5E6+djLkmSJGnkLDIX5AApSZIkaeScidbPx1ySJEnSyFlkLsgBUpIkSdLIOROtn4+5JEmSpJGzyFyQA6QkSZKkkXMmWj8fc0mSJEkjZ5G5IAdISZIkSSPnTLR+PuaSJEmSRs4ic0EOkJIkSZJGzplo/XzMJUmSJI2cReaCHCAlSZK0u9/4hm+ElHrkTLR+PuaSJEmSRs4ic0EOkJIkSdpdtECCDHrkTLR+PuaSJEmSRs4ic0EOkJIkSdpdtECCDHrkTLR+PuaSJEmSRs4ic0EOkJIkSdpdtECCDHrkTLR+PuaSJEmSRs4ic0EOkJIkSdpdtECCDHrkTLR+PuaSJEmSRs4ic0EOkJIkSdpdtECCDHrkTLR+PuaSJEnaXTT/QwY9sshckAOkJEmSdhcN7pBBj5yJ1s/HXJIkSbuL5n/IoEcWmQtygJQkSdLuosEdMuiRM9H6+ZhLkiRpd9H8Dxn0yCJzQQ6QkiRJ2l00uEMGPXImWj8fc0mSJO0umv8hgx5ZZC7IAVKSJEm7iwZ3yKBHzkTr52MuSZKk3UXzP2TQI4vMBTlASpIkaXfR4A4Z9MiZaP18zCVJkrS7aP6HDHpkkbkgB0hJkiTtLhrcIYMeOROtn4+5JEmSdhfN/5BBjywyF+QAKUmSpN1Fgztk0CNnovXzMZckSdLuovkfMuiRReaCHCAlSZK0u2hwhwx65Ey0fj7mkiRJ2l00/0MGPbLIXJADpCRJknYXDe6QQY+cidbPx1ySJEm7i+Z/yKBHFpkLcoCUJEnS7qLBHTLokTPR+vmYS5IkaXfR/A8Z9Mgic0E9DpB//wd/HlKSJEmHVzS4QwY9slRbPx9zSZIk7S6a/yGDHllkLsgik5FIkqTDKxrcIYMeWaqtn4+5JEmSdhfN/5BBjywyF2SRyUgkSdLhFQ3ukEGPLNXWz8dckiRJu4vmf8igRxaZC7LIZCSSJOnwigZ3yKBHlmrr52MuSZKk3UXzP2TQI4vMBVlkMhJJknR4RYM7ZNAjS7X18zGXJEnS7qL5HzLokUXmgiwyGYkkSTq8osEdMuiRpdr6+ZhLkiRpd9H8Dxn0yCJzQRaZjESSJB1e0eAOGfTIUm39fMwlSZK0u2j+hwx6ZJG5IItMRiJJkg6vaHCHDHpkqbZ+PuaSJEnaXTT/QwY9sshckEUmI6nSH73wVEhL0hhFgztk0CNLtfXzMZckSdLuovkfMuiRReaCLDIZSZWi5RFkIWmMosEdMuiRpdr6+ZhLkiRpd9H8Dxn0yCJzQRaZjKRK0fIIspA0RtHgDhn0yFJt/XzMJUmStLto/ocMemSRuSCLTEZSpWh5BFlIGqNocIcMemSptn4+5pIkSdpdNP9DBj2yyFyQRSYjqVK0PIIsJI1RNLhDBj2yVFs/H3NJkiTtLpr/IYMeWWQuyCKTkVQpWh5BFpLGKBrcIYMeWaqtn4+5JEmSdhfN/5BBjywyF2SRyUiqFC2PIAtJYxQN7pBBjyzV1s/HXJIkSbuL5n/IoEcWmQuyyGQkVYqWR5CFpDGKBnfIoEeWauvnYy5JkqTdRfM/ZNAji8wFWWQykipFyyPIQtIYRYM7ZNAjS7X18zGXJEnS7qL5HzLokUXmgiwyGUmVouURZCFpjKLBHTLokaXa+vmYS5IkaXfR/A8Z9Mgic0EWmYykStHyCLKQNEbR4A4Z9MhSbf18zCVJkrS7aP6HDHpkkbkgi0xGUqVoeQRZSBqjaHCHDHpkqbZ+PuaSJEnaXTT/QwY9OmYXmVdeeeV00kknTSeccMJ08cUXb279fH/0R380PfKRj5zOOOOM6bTTTpuuuOKKzVsOnkUmI6lStDyCLCSNUTS4QwY9slRbPx9zSZIk7S6a/yGDHh2Ti8xbbrll2rNnz3TddddN+/fvn/bu3Ttdc801m7fe3rOe9azpVa961fxye9sDH/jA+eVDZZHJSKoULY8gC0ljFA3ukEGPLNXWz8dckiRJu4vmf8igR8fkIvOqq66azj777M1r03TRRRfNdnbuuedOL3nJS+aX249/2MMeNr98qCwyGUmVouURZCFpjKLBHTLokaXa+vmYS5IkaXfR/A8Z9OiYXGRedtll0znnnLN5bZouvfTS6fzzz9+8dnt/+qd/Op166qnTV3zFV0x/+2//7eld73rX5i0HzyKTkVQpWh5BFpLGKBrcIYMeWaqtn4+5JEmSdhfN/5BBj4ZdZL70pS+dfuzHfmx+uT0i8+STT55uvfXW+fWdXXLJJfMHqTnuuOM2tx69ogUSZFClaHkEWUgao2hwhwx6ZKm2fj7mkiRJ2l00/0MGPTomF5mHc2nZU045Zfrwhz+8eW2ajj/++OmGG27YvBbX4wAZLZAggypFyyPIQtIYRYM7ZNAjS7X18zGXJEnS7qL5HzLo0TG5yLz55pvnxeT1118/7d+/f9q7d+909dVXb956e495zGOmn/u5n5tffu973zvd//73n2677bb59YNlkclIqhQtjyALSWMUDe6QQY8s1dbPx1ySJEm7i+Z/yKBHx+Qis3XFFVdMJ5544rRnz57pwgsvnG+74IILpssvv3x++Zprrpn27ds3LzlPP/306c1vfvN8+6GyyGQkVYqWR5CFpDGKBnfIoEeWauvnYy5JkqTdRfM/ZNCjY3aR2SOLTEZSpWh5BFlIGqNocIcMemSptn4+5pIkSdpdNP9DBj2yyFyQRSYjqVK0PIIsJI1RNLhDBj2yVFs/H3NJkiTtLpr/IYMeWWQuyCKTkVQpWh5BFpLGKBrcIYMeWaqtn4+5JEmSdhfN/5BBjywyF2SRyUiqFC2PIAtJYxQN7pBBjyzV1s/HXJIkSbuL5n/IoEcWmQuyyGQkVYqWR5BFlfa9Yh+kVKVocIcMemSptn4+5pIkSdpdNP9DBj2yyFyQRSYjqVK0PIIsqhQtkCCDKkWDO2TQI0u19fMxlyRJ0u6i+R8y6JFF5oIsMhlJlaLlEWRRpWiBBBlUKRrcIYMeWaqtn4+5JEmSdhfN/5BBjywyF2SRyUiqFC2PIIsqRQskyKBK0eAOGfTIUm39fMwlSZK0u2j+hwx6ZJG5IItMRlKlaHkEWVQpWiBBBlWKBnfIoEeWauvnYy5JkqTdRfM/ZNAji8wFWWQykipFyyPIokrRAgkyqFI0uEMGPbJUWz8fc0mSJO0umv8hgx5ZZC7IIpORVClaHkEWVYoWSJBBlaLBHTLokaXa+vmYS5IkaXfR/A8Z9Mgic0EWmYykStHyCLKoUrRAggyqFA3ukEGPLNXWz8dckiRJu4vmf8igRxaZC7LIZCRVipZHkEWVogUSZFClaHCHDHpkqbZ+PuaSJEnaXTT/QwY9sshckEUmI6lStDyCLKoULZAggypFgztk0CNLtfXzMZckSdLuovkfMuiRReaCLDIZSZWi5RFkUaVogQQZVCka3CGDHlmqrZ+PuSRJknYXzf+QQY8sMhdkkclIqhQtjyCLKkULJMigStHgDhn0yFJt/XzMJUmStLto/ocMemSRuSCLTEZSpWh5BFlUKVogQQZVigZ3yKBHlmrr52MuSZKk3UXzP2TQI4vMBVlkMpIqRcsjyKJK0QIJMqhSNLhDBj2yVFs/H3NJkiTtLpr/IYMeWWQuyCKTkVQpWh5BFlWKFkiQQZWiwR0y6JGl2vr5mEuSJGl30fwPGfTIInNBFpmMpErR8giyqFK0QIIMqhQN7pBBjyzV1s/HXJIkSbuL5n/IoEcWmQuyyGQkVYqWR5BFlaIFEmRQpWhwhwx6ZKm2fj7mkiRJ2l00/0MGPbLIXJBFJiOpUrQ8giyqFC2QIIMqRYM7ZNAjS7X1cw5lJJIk6fCK5n/IoEcWmQtygGQkVYqWR5BFlaIFEmRQpWhwhwx6ZJG5fs6hjESSJB1e0fwPGfTIInNBDpCMpErR8giyqFK0QIIMqhQN7pBBjywy1885lJFIkqTDK5r/IYMeWWQuyAGSkVQpWh5BFlWKFkiQQZWiwR0y6JFF5vo5hzISSZJ0eEXzP2TQI4vMBTlAMpIqRcsjyKJK0QIJMqhSNLhDBj2yyFw/51BGIkmSDq9o/ocMemSRuSAHSEZSpWh5BFlUKVogQQZVigZ3yKBHFpnr5xzKSCRJ0uEVzf+QQY8sMhfkAMlIqhQtjyCLKkULJMigStHgDhn0yCJz/ZxDGYkkSTq8ovkfMuiRReaCHCAZSZWi5RFkUaVogQQZVCka3CGDHllkrp9zKCORJEmHVzT/QwY9sshckAMkI6lStDyCLKoULZAggypFgztk0COLzPVzDmUkkiTp8Irmf8igRxaZC3KAZCRVipZHkEWVogUSZFClaHCHDHpkkXnorrzyyumkk06aTjjhhOniiy/e3Pr5/uiP/mh65CMfOZ1xxhnTaaedNl1xxRWbtxw851BGIkmSDq9o/ocMemSRuSAHSEZSpWh5BFlUKVogQQZVigZ3yKBHFpkH75Zbbpn27NkzXXfdddP+/funvXv3Ttdcc83mrbf3rGc9a3rVq141v9ze9sAHPnB++VA5hzISSZJ0eEXzP2TQI4vMBTlAMpIqRcsjyKJK0QIJMqhSNLhDBj2yyDx4V1111XT22WdvXpumiy66aLazc889d3rJS14yv9x+/MMe9rD55UPlHMpIJI1TNP9DBlWK5n/IoEcWmQtygGQkVYqWR5BFlaLBHTKoUjS4QwY9ssg8eJdddtl0zjnnbF6bpksvvXQ6//zzN6/d3p/+6Z9Op5566vQVX/EV09/+2397ete73rV5y8FzDmUkksYpmv8hgypF8z9k0COLzAU5QDKSKkXLI8iiStHgDhlUKRrcIYMeWWQevMNZZL70pS+dfuzHfmx+uT0i8+STT55uvfXW+fWdXXLJJfPHujnuuOM2tx69ovkfMpA0TtH8DxlUKZr/IYMeWWQuyCKTkVQpWh5BFlWKBnfIoErR4A4Z9Mgi8+AdzqVlTznllOnDH/7w5rVpOv7446cbbrhh81qccygjkTRO0fwPGVQpmv8hgx5ZZC7IAZKRVClaHkEWVYoGd8igStHgDhn0yCLz4N18883zYvL666+f9u/fP+3du3e6+uqrN2+9vcc85jHTz/3cz80vv/e9753uf//7T7fddtv8+sFyDmUkksYpmv8hgypF8z9k0COLzAU5QDKSKkXLI8iiStHgDhlUKRrcIYMeWWQeuiuuuGI68cQTpz179kwXXnjhfNsFF1wwXX755fPL11xzzbRv3755yXn66adPb37zm+fbD5VzKCORNE7R/A8ZVCma/yGDHllkLsgBkpFUKVoeQRZVigZ3yKBK0eAOGfTIInP9nEMZiaRxiuZ/yKBK0fwPGfTIInNBDpCMpErR8giyqFI0uEMGVYoGd8igRxaZ6+ccykgkjVM0/0MGVYrmf8igRxaZC3KAZCRVipZHkEWVosEdMqhSNLhDBj2yyFw/51BGImmcovkfMqhSNP9DBj2yyFyQAyQjqVK0PIIsqhQN7pBBlaLBHTLokUXm+jmHMhJJ4xTN/5BBlaL5HzLokUXmghwgGUmVouURZFGlaHCHDKoUDe6QQY8sMtfPOZSRSBqnaP6HDKoUzf+QQY8sMhfkAMlIqhQtjyCLKkWDO2RQpWhwhwx6ZJG5fs6hjETSOEXzP2RQpWj+hwx6ZJG5IAdIRlKlaHkEWVQpGtwhgypFgztk0COLzPVzDmUkksYpmv8hgypF8z9k0COLzAU5QDKSKkXLI8iiStHgDhlUKRrcIYMeWWSun3MoI5E0TtH8DxlUKZr/IYMeWWQuyAGSkVQpWh5BFlWKBnfIoErR4A4Z9Mgic/2cQxmJpHGK5n/IoErR/A8Z9Mgic0EOkIykStHyCLKoUjS4QwZVigZ3yKBHFpnr5xzKSCSNUzT/QwZViuZ/yKBHFpkLcoBkJFWKlkeQRZWiwR0yqFI0uEMGPbLIXD/nUEYiaZyi+R8yqFI0/0MGPbLIXJADJCOpUrQ8giyqFA3ukEGVosEdMuiRReb6OYcyEknjFM3/kEGVovkfMuiRReaCHCAZSZWi5RFkUaVocIcMqhQN7pBBjywy1885lJFIGqdo/ocMqhTN/5BBjywyF+QAyUiqFC2PIIsqRYM7ZFClaHCHDHpkkbl+zqGMRNI4RfM/ZFClaP6HDHpkkbkgB0hGUqVoeQRZVCka3CGDKkWDO2TQI4vM9XMOZSSSxima/yGDKkXzP2TQI4vMBTlAMpIqRcsjyKJK0eAOGVQpGtwhgx5ZZK6fcygjkTRO0fwPGVQpmv8hgx5ZZC7IAZKRVClaHkEWVYoGd8igStHgDhn0yCJz/ZxDGYmkcYrmf8igStH8Dxn0yCJzQQ6QjKRK0fIIsqhSNLhDBlWKBnfIoEcWmevnHMpIJI1TNP9DBlWK5n/IoEcWmQtygGQkVYqWR5BFlaLBHTKoUjS4QwY9sshcP+dQRiJpnKL5HzKoUjT/QwY9sshckAMkI6lStDyCLKoUDe6QQZWiwR0y6JFF5vo5hzISSeMUzf+QQZWi+R8y6JFF5oIcIBlJlaLlEWRRpWhwhwyqFA3ukEGPLDLXzzmUkUgap2j+hwyqFM3/kEGPLDIX5ADJSKoULY8giypFgztkUKVocIcMemSRuX7OoYxE0jhF8z9kUKVo/ocMemSRuSAHSEZSpWh5BFlUKRrcIYMqRYM7ZNAji8z1cw5lJJLGKZr/IYMqRfM/ZNAji8wFOUAykipFyyPIokrR4A4ZVCka3CGDHllkrp9zKCORNE7R/A8ZVCma/yGDHllkLsgBkpFUKVoeQRZVigZ3yKBK0eAOGfTIInP9nEMZiaRxiuZ/yKBK0fwPGfTIInNBDpCMpErR8giyqFI0uEMGVYoGd8igRxaZ6+ccykgkjVM0/0MGVYrmf8igRxaZC3KAZCRVipZHkEWVosEdMqhSNLhDBj2yyFw/51BGImmcovkfMqhSNP9DBj2yyFyQAyQjqVK0PIIsqhQN7pBBlaLBHTLokUXm+jmHMpIqRbM/ZFGlaP6HDKoUzf+QQY8sMhfkAMlIqhQN7ZBFlaLBHTKoUjS4QwY9sshcP+dQRlKlaPaHLKoUzf+QQZWi+R8y6JFF5oIcIBlJlaKhHbKoUjS4QwZVigZ3yKBHFpnr5xzKSKoUzf6QRZWi+R8yqFI0/0MGPbLIXJADJCOpUjS0QxZVigZ3yKBK0eAOGfTIInP9nEMZSZWi2R+yqFI0/0MGVYrmf8igRxaZC3KAZCRVioZ2yKJK0eAOGVQpGtwhgx5ZZK6fcygjqVI0+0MWVYrmf8igStH8Dxn0yCJzQQ6QjKRK0dAOWVQpGtwhgypFgztk0COLzPVzDmUkVYpmf8iiStH8DxlUKZr/IYMeWWQuyAGSkVQpGtohiypFgztkUKVocIcMemSRuX7OoYykStHsD1lUKZr/IYMqRfM/ZNAji8wFOUAykipFQztkUaVocIcMqhQN7pBBjywy1885lJFUKZr9IYsqRfM/ZFClaP6HDHpkkbkgB0hGUqVoaIcsqhQN7pBBlaLBHTLokUXm+jmHMpIqRbM/ZFGlaP6HDKoUzf+QQY8sMhfkAMlIqhQN7ZBFlaLBHTKoUjS4QwY9sshcP+dQRlKlaPaHLKoUzf+QQZWi+R8y6JFF5oIcIBlJlaKhHbKoUjS4QwZVigZ3yKBHFpnr5xzKSKoUzf6QRZWi+R8yqFI0/0MGPbLIXJADJCOpUjS0QxZVigZ3yKBK0eAOGfTIInP9nEMZSZWi2R+yqFI0/0MGVYrmf8igRxaZC3KAZCRVioZ2yKJK0eAOGVQpGtwhgx5ZZK6fcygjqVI0+0MWVYrmf8igStH8Dxn0yCJzQQ6QjKRK0dAOWVQpGtwhgypFgztk0COLzPVzDmUkVYpmf8iiStH8DxlUKZr/IYMeWWQuyAGSkVQpGtohiypFgztkUKVocIcMemSRuX7OoYykStHsD1lUKZr/IYMqRfM/ZNAji8wFOUAykipFQztkUaVocIcMqhQN7pBBjywy1885lJFUKZr9IYsqRfM/ZFClaP6HDHpkkbkgB0hGUqVoaIcsqhQN7pBBlaLBHTLokUXm+jmHMpIqRbM/ZFGlaP6HDKoUzf+QQY8sMhfkAMlIqhQN7ZBFlaLBHTKoUjS4QwY9sshcP+dQRlKlaPaHLKoUzf+QQZWi+R8y6JFF5oIcIBlJlaKhHbKoUjS4QwZVigZ3yKBHFpnr5xzKSKoUzf6QRZWi+R8yqFI0/0MGPbLIXJADJCOpUjS0QxZVigZ3yKBK0eAOGfTIInP9nEMZSZWi2R+yqFI0/0MGVYrmf8igRxaZC3KAZCRVioZ2yKJK0eAOGVQpGtwhgx5ZZK6fcygjqVI0+0MWVYrmf8igStH8Dxn0yCJzQQ6QjKRK0dAOWVQpGtwhgypFgztk0COLzPVzDmUkVYpmf8iiStH8DxlUKZr/IYMeWWQuyAGSkVQpGtohiypFgztkUKVocIcMemSRuX7OoYykStHsD1lUKZr/IYMqRfM/ZNAji8wFOUAykipFQztkUaVocIcMqhQN7pBBjywy1885lJFUKZr9IYsqRfM/ZFClaP6HDHpkkbkgB0hGUqVoaIcsqhQN7pBBlaLBHTLokUXm+jmHMpIqRbM/ZFGlaP6HDKoUzf+QQY8sMhfkAMlIqhQN7ZBFlaLBHTKoUjS4QwY9sshcP+dQRlKlaPaHLKoUzf+QQZWi+R8y6JFF5oIcIBlJlaKhHbKoUjS4QwZVigZ3yKBHFpnr5xzKSKoUzf6QRZWi+R8yqFI0/0MGPbLIXJADJCOpUjS0QxZVigZ3yKBK0eAOGfTIInP9nEMZSZWi2R+yqFI0/0MGVYrmf8igRxaZC3KAZCRVioZ2yKJK0eAOGVQpGtwhgx5ZZK6fcygjqVI0+0MWVYrmf8igStH8Dxn0yCJzQQ6QjKRK0dAOWVQpGtwhgypFgztk0COLzPVzDmUkVYpmf8iiStH8DxlUKZr/IYMeWWQuyAGSkVQpGtohiypFgztkUKVocIcMemSRuX7OoYykStHsD1lUKZr/IYMqRfM/ZNAji8wFOUAykipFQztkUaVocIcMqhQN7pBBjywy1885lJFUKZr9IYsqRfM/ZFClaP6HDHpkkbkgB0hGUqVoaIcsqhQN7pBBlaLBHTLokUXm+jmHMpIqRbM/ZFGlaP6HDKoUzf+QQY8sMhfkAMlIqhQN7ZBFlaLBHTKoUjS4QwY9sshcP+dQRlKlaPaHLKoUzf+QQZWi+R8y6JFF5oIcIBlJlaKhHbKoUjS4QwZVigZ3yKBHFpnr5xzKSKoUzf6QRZWi+R8yqFI0/0MGPbLIXJADJCOpUjS0QxZVigZ3yKBK0eAOGfTIInP9nEMZSZWi2R+yqFI0/0MGVYrmf8igRxaZC3KAZCRVioZ2yKJK0eAOGVQpGtwhgx5ZZK6fcygjqVI0+0MWVYrmf8igStH8Dxn0yCJzQQ6QjKRK0dAOWVQpGtwhgypFgztk0COLzPVzDmUkVYpmf8iiStH8DxlUKZr/IYMeWWQuyAGSkVQpGtohiypFgztkUKVocIcMemSRuX7OoYykStHsD1lUKZr/IYMqRfM/ZNAji8wFOUAykipFQztkUaVocIcMqhQN7pBBjywy1885lJFUKZr9IYsqRfM/ZFClaP6HDHpkkbkgB0hGUqVoaIcsqhQN7pBBlaLBHTLokUXm+jmHMpIqRbM/ZFGlaP6HDKoUzf+QQY8sMhfkAMlIqhQN7ZBFlaLBHTKoUjS4QwY9sshcP+dQRlKlaPaHLKoUzf+QQZWi+R8y6JFF5oIcIBlJlaKhHbKoUjS4QwZVigZ3yKBHFpnr5xzKSKoUzf6QRZWi+R8yqFI0/0MGPbLIXJADJCOpUjS0QxZVigZ3yKBK0eAOGfTIInP9nEMZSZWi2R+yqFI0/0MGVYrmf8igRxaZC3KAZCRVioZ2yKJK0eAOGVQpGtwhgx5ZZK6fcygjqVI0+0MWVYrmf8igStH8Dxn0yCJzQQ6QjKRK0dAOWVQpGtwhgypFgztk0COLzPVzDmUkVYpmf8iiStH8DxlUKZr/IYMeHbOLzCuvvHI66aSTphNOOGG6+OKLN7fesV/+5V+eTj755OmUU06Zvv3bv31z68FzgGQkVYqGdsiiStHgDhlUKRrcIYMeWWSun3MoI6lSNPtDFlWK5n/IoErR/A8Z9OiYXGTecsst0549e6brrrtu2r9//7R3797pmmuu2bz19t7//vdPZ5xxxnTjjTfOr99www3zfw+VAyQjqVI0tEMWVYoGd8igStHgDhn0yCJz/ZxDGUmVotkfsqhSNP9DBlWK5n/IoEfH5CLzqquums4+++zNa9N00UUXzXb2vOc9b/rZn/3ZzWuHlwMkI6lSNLRDFlWKBnfIoErR4A4Z9Mgic/2cQxlJlaLZH7KoUjT/QwZViuZ/yKBHx+Qi87LLLpvOOeeczWvTdOmll07nn3/+5rXbe/zjHz8vM/ft2zedeeaZ86Vo7yoHSEZSpWhohyyqFA3ukEGVosEdMuiRReb6OYcykipFsz9kUaVo/ocMqhTN/5BBj4ZdZH7Lt3zL9IQnPGH67Gc/O11//fXTAx7wgOnjH//45q2f75JLLpk/SM1xxx23ufXoFQ3ukEGVoqEdsqhSNLhDBlWKBnfIoEcWmetnkclIqhTN/pBFlaL5HzKoUjT/QwY9OiYXmYdzadnzzjtves1rXrN5bZrOOuus6Z3vfOfmtTgHSEZSpWhohyyqFA3ukEGVosEdMuiRReb6OYcykipFsz9kUaVo/ocMqhTN/5BBj47JRebNN988HX/88fMjLffv3z/t3bt3uvrqqzdvvb12KdlnPvOZ88sf/ehH50dkfuxjH5tfP1gOkIykStHQDllUKRrcIYMqRYM7ZNAji8z1cw5lJFWKZn/IokrR/A8ZVCma/yGDHh2Ti8zWFVdcMZ144onTnj17pgsvvHC+7YILLpguv/zy+eXbbrttes5znjOdfPLJ06mnnjq9/vWvn28/VA6QjKRK0dAOWVQpGtwhgypFgztk0COLzPVzDmUkVYpmf8iiStH8DxlUKZr/IYMeHbOLzB45QDKSKkVDO2RRpWhwhwyqFA3ukEGPLDLXzzmUkVQpmv0hiypF8z9kUKVo/ocMemSRuSAHSEZSpWhohyyqFA3ukEGVosEdMuiRReb6OYcykipFsz9kUaVo/ocMqhTN/5BBjywyF+QAyUiqFA3tkEWVosEdMqhSNLhDBj2yyFw/51BGUqVo9ocsqhTN/5BBlaL5HzLokUXmghwgGUmVoqEdsqhSNLhDBlWKBnfIoEcWmevnHMpIqhTN/pBFlaL5HzKoUjT/QwY9sshckAMkI6lSNLRDFlWKBnfIoErR4A4Z9Mgic/2cQxlJlaLZH7KoUjT/QwZViuZ/yKBHFpkLcoBkJFWKhnbIokrR4A4ZVCka3CGDHllkrp9zKCOpUjT7QxZViuZ/yKBK0fwPGfTIInNBDpCMpErR0A5ZVCka3CGDKkWDO2TQI4vM9XMOZSRVimZ/yKJK0fwPGVQpmv8hgx5ZZC7IAZKRVCka2iGLKkWDO2RQpWhwhwx6ZJG5fs6hjKRK0ewPWVQpmv8hgypF8z9k0COLzAU5QDKSKkVDO2RRpWhwhwyqFA3ukEGPLDLXzzmUkVQpmv0hiypF8z9kUKVo/ocMemSRuSAHSEZSpWhohyyqFA3ukEGVosEdMuiRReb6OYcykipFsz9kUaVo/ocMqhTN/5BBjywyF+QAyUiqFA3tkEWVosEdMqhSNLhDBj2yyFw/51BGUqVo9ocsqhTN/5BBlaL5HzLokUXmghwgGUmVoqEdsqhSNLhDBlWKBnfIoEcWmevnHMpIqhTN/pBFlaL5HzKoUjT/QwY9sshckAMkI6lSNLRDFlWKBnfIoErR4A4Z9Mgic/2cQxlJlaLZH7KoUjT/QwZViuZ/yKBHFpkLcoBkJFWKhnbIokrR4A4ZVCka3CGDHllkrp9zKCOpUjT7QxZViuZ/yKBK0fwPGfTIInNBDpCMpErR0A5ZVCka3CGDKkWDO2TQI4vM9XMOZSRVimZ/yKJK0fwPGVQpmv8hgx5ZZC7IAZKRVCka2iGLKkWDO2RQpWhwhwx6ZJG5fs6hjKRK0ewPWVQpmv8hgypF8z9k0COLzAU5QDKSKkVDO2RRpWhwhwyqFA3ukEGPLDLXzzmUkVQpmv0hiypF8z9kUKVo/ocMemSRuSAHSEZSpWhohyyqFA3ukEGVosEdMuiRReb6OYcykipFsz9kUaVo/ocMqhTN/5BBjywyF+QAyUiqFA3tkEWVosEdMqhSNLhDBj2yyFw/51BGUqVo9ocsqhTN/5BBlaL5HzLokUXmghwgGUmVoqEdsqhSNLhDBlWKBnfIoEcWmevnHMpIqhTN/pBFlaL5HzKoUjT/QwY9sshckAMkI6lSNLRDFlWKBnfIoErR4A4Z9Mgic/2cQxlJlaLZH7KoUjT/QwZViuZ/yKBHFpkLcoBkJFWKhnbIokrR4A4ZVCka3CGDHllkrp9zKCOpUjT7QxZViuZ/yKBK0fwPGfTIInNBDpCMpErR0A5ZVCka3CGDKkWDO2TQI4vMQ3fllVdOJ5100nTCCSdMF1988ebWO/bLv/zL08knnzydcsop07d/+7dvbj14zqGMpErR7A9ZVCma/yGDKkXzP2TQI4vMBTlAMpIqRUM7ZFGlaHCHDKoUDe6QQY8sMg/eLbfcMu3Zs2e67rrrpv3790979+6drrnmms1bb+/973//dMYZZ0w33njj/PoNN9ww//dQOYcykipFsz9kUaVo/ocMqhTN/5BBjywyF+QAyUiqFA3tkEWVosEdMqhSNLhDBj2yyDx4V1111XT22WdvXpumiy66aLaz5z3vedPP/uzPbl47vJxDGUmVotkfsqhSNP9DBlWK5n/IoEcWmQtygGQkVYqGdsiiStHgDhlUKRrcIYMeWWQevMsuu2w655xzNq9N06WXXjqdf/75m9du7/GPf/y8zNy3b9905plnzpeivaucQxlJlaLZH7KoUjT/QwZViuZ/yKBHFpkLcoBkJFWKhnbIokrR4A4ZVCka3CGDHllkHrzDWWR+y7d8y/SEJzxh+uxnPztdf/310wMe8IDp4x//+Oatn++SSy6ZP9bNcccdt7n16BXN/5BBlaLZH7KoUjT/QwZViuZ/yKBHFpkLsshkJFWKhnbIokrR4A4ZVCka3CGDHllkHrzDubTseeedN73mNa/ZvDZNZ5111vTOd75z81qccygjqVI0+0MWVYrmf8igStH8Dxn0yCJzQQ6QjKRK0dAOWVQpGtwhgypFgztk0COLzIN38803T8cff/z8SMv9+/dPe/funa6++urNW2+vXUr2mc985vzyRz/60fkRmR/72Mfm1w+WcygjqVI0+0MWVYrmf8igStH8Dxn0yCJzQQ6QjKRK0dAOWVQpGtwhgypFgztk0COLzEN3xRVXTCeeeOK0Z8+e6cILL5xvu+CCC6bLL798fvm2226bnvOc50wnn3zydOqpp06vf/3r59sPlXMoI6lSNPtDFlWK5n/IoErR/A8Z9Mgic0EOkIykStHQDllUKRrcIYMqRYM7ZNAji8z1cw5lJFWKZn/IokrR/A8ZVCma/yGDHllkLsgBkpFUKRraIYsqRYM7ZFClaHCHDHpkkbl+zqGMpErR7A9ZVCma/yGDKkXzP2TQI4vMBTlAMpIqRUM7ZFGlaHCHDKoUDe6QQY8sMtfPOZSRVCma/SGLKkXzP2RQpWj+hwx6ZJG5IAdIRlKlaGiHLKoUDe6QQZWiwR0y6JFF5vo5hzKSKkWzP2RRpWj+hwyqFM3/kEGPLDIX5ADJSKoUDe2QRZWiwR0yqFI0uEMGPbLIXD/nUEZSpWj2hyyqFM3/kEGVovkfMuiRReaCHCAZSZWioR2yqFI0uEMGVYoGd8igRxaZ6+ccykiqFM3+kEWVovkfMqhSNP9DBj2yyFyQAyQjqVI0tEMWVYoGd8igStHgDhn0yCJz/ZxDGUmVotkfsqhSNP9DBlWK5n/IoEcWmQtygGQkVYqGdsiiStHgDhlUKRrcIYMeWWSun3MoI6lSNPtDFlWK5n/IoErR/A8Z9Mgic0EOkIykStHQDllUKRrcIYMqRYM7ZNAji8z1cw5lJFWKZn/IokrR/A8ZVCma/yGDHllkLsgBkpFUKRraIYsqRYM7ZFClaHCHDHpkkbl+zqGMpErR7A9ZVCma/yGDKkXzP2TQI4vMBTlAMpIqRUM7ZFGlaHCHDKoUDe6QQY8sMtfPOZSRVCma/SGLKkXzP2RQpWj+hwx6ZJG5IAdIRlKlaGiHLKoUDe6QQZWiwR0y6JFF5vo5hzKSKkWzP2RRpWj+hwyqFM3/kEGPLDIX5ADJSKoUDe2QRZWiwR0yqFI0uEMGPbLIXD/nUEZSpWj2hyyqFM3/kEGVovkfMuiRReaCHCAZSZWioR2yqFI0uEMGVYoGd8igRxaZ6+ccykiqFM3+kEWVovkfMqhSNP9DBj2yyFyQAyQjqVI0tEMWVYoGd8igStHgDhn0yCJz/ZxDGUmVotkfsqhSNP9DBlWK5n/IoEcWmQtygGQkVYqGdsiiStHgDhlUKRrcIYMeWWSun3MoI6lSNPtDFlWK5n/IoErR/A8Z9Mgic0EOkIykStHQDllUKRrcIYMqRYM7ZNAji8z1cw5lJFWKZn/IokrR/A8ZVCma/yGDHllkLsgBkpFUKRraIYsqRYM7ZFClaHCHDHpkkbl+zqGMpErR7A9ZVCma/yGDKkXzP2TQI4vMBTlAMpIqRUM7ZFGlaHCHDKoUDe6QQY8sMtfPOZSRVCma/SGLKkXzP2RQpWj+hwx6ZJG5IAdIRlKlaGiHLKoUDe6QQZWiwR0y6JFF5vo5hzKSKkWzP2RRpWj+hwyqFM3/kEGPLDIX5ADJSKoUDe2QRZWiwR0yqFI0uEMGPbLIXD/nUEZSpWj2hyyqFM3/kEGVovkfMuiRReaCHCAZSZWioR2yqFI0uEMGVYoGd8igRxaZ6+ccykiqFM3+kEWVovkfMqhSNP9DBj2yyFyQAyQjqVI0tEMWVYoGd8igStHgDhn0yCJz/ZxDGUmVotkfsqhSNP9DBlWK5n/IoEcWmQtygGQkVYqGdsiiStHgDhlUKRrcIYMeWWSun3MoI6lSNPtDFlWK5n/IoErR/A8Z9Mgic0EOkIykStHQDllUKRrcIYMqRYM7ZNAji8z1cw5lJFWKZn/IokrR/A8ZVCma/yGDHllkLsgBkpFUKRraIYsqRYM7ZFClaHCHDHpkkbl+zqGMpErR7A9ZVCma/yGDKkXzP2TQI4vMBTlAMpIqRUM7ZFGlaHCHDKoUDe6QQY8sMtfPOZSRVCma/SGLKkXzP2RQpWj+hwx6ZJG5IAdIRlKlaGiHLKoUDe6QQZWiwR0y6JFF5vo5hzKSKkWzP2RRpWj+hwyqFM3/kEGPLDIX5ADJSKoUDe2QRZWiwR0yqFI0uEMGPbLIXD/nUEZSpWj2hyyqFM3/kEGVovkfMuiRReaCHCAZSZWioR2yqFI0uEMGVYoGd8igRxaZ6+ccykiqFM3+kEWVovkfMqhSNP9DBj2yyFyQAyQjqVI0tEMWVYoGd8igStHgDhn0yCJz/ZxDGUmVotkfsqhSNP9DBlWK5n/IoEcWmQtygGQkVYqGdsiiStHgDhlUKRrcIYMeWWSun3MoI6lSNPtDFlWK5n/IoErR/A8Z9Cj1IvONb3zjdOutt25eu+dzgGQkVYqGdsiiStHgDhlUKRrcIYMeWWSun3MoI6lSNPtDFlWK5n/IoErR/A8Z9Cj1IvPpT3/6tGfPnul5z3ve9L73vW9z6z2XAyQjqVI0tEMWVYoGd8igStHgDhn0yCJz/ZxDGUmVotkfsqhSNP9DBlWK5n/IoEepF5mtT37yk9NP//RPT2eeeeb00Ic+dLrkkkumT33qU5u3rpsDJCOpUjS0QxZVigZ3yKBK0eAOGfTIInP9nEMZSZWi2R+yqFI0/0MGVYrmf8igR+kXma2Pfexj08te9rLpgQ984PSYxzxm+uqv/urpFa94xeat6+UAyUiqFA3tkEWVosEdMqhSNLhDBj2yyFw/51BGUqVo9ocsqhTN/5BBlaL5HzLoUepF5uWXXz494QlPmE499dTpR3/0R6cbbrhhvv2mm26al5pr5wDJSKoUDe2QRZWiwR0yqFI0uEMGPbLIXD/nUEZSpWj2hyyqFM3/kEGVovkfMuhR6kXmM5/5zOntb3/75rU79ta3vnXz0no5QDKSKkVDO2RRpWhwhwyqFA3ukEGPRlhkvvGNb5xuvfXWzWv3fM6hjKRK0ewPWVQpmv8hgypF8z9k0KPUi8zrr79++su//MvNa9P0F3/xF9MHP/jBzWvr5wDJSKoUDe2QRZWiwR0yqFI0uEMGPRphkfn0pz992rNnz/S85z1vet/73re59Z7LOZSRVCma/SGLKkXzP2RQpWj+hwx6lHqR2d65/fv3b16b5pcf/OAHb15bPwdIRlKlaGiHLKoUDe6QQZWiwR0y6NEIi8zWJz/5yemnf/qnpzPPPHN66EMfOl1yySXTpz71qc1b1805lJFUKZr9IYsqRfM/ZFClaP6HDHqUepF5+umnb176fHv37t28tH4OkIykStHQDllUKRrcIYMqRYM7ZNCjURaZrY997GPTy172sumBD3zg9JjHPGb66q/+6ukVr3jF5q3r5RzKSKoUzf6QRZWi+R8yqFI0/0MGPUq9yHz0ox89XX755ZvXpulXf/VXp7POOmvz2vo5QDKSKkVDO2RRpWhwhwyqFA3ukEGPRlhktjPoE57whOnUU0+dfvRHf3S64YYb5ttvuummeam5ds6hjKRK0ewPWVQpmv8hgypF8z9k0KPUi8wPfOAD86V8vvIrv3J6wAMeMD3sYQ+brr322s1b188BkpFUKRraIYsqRYM7ZFClaHCHDHo0wiLzmc985vT2t79989ode+tb37p5ab2cQxlJlaLZH7KoUjT/QwZViuZ/yKBHqReZ2/78z/98dk/nAMlIqhQN7ZBFlaLBHTKoUjS4QwY9GmGRef31109/+Zd/uXltmv7iL/5i+uAHP7h5bf2cQxlJlaLZH7KoUjT/QwZViuZ/yKBH6ReZv/Zrvzb963/9r6cXvvCFB9xTOUAykipFQztkUaVocIcMqhQN7pBBj0ZYZLY/4/79+zevTfPLD37wgzevrZ9zKCOpUjT7QxZViuZ/yKBK0fwPGfQo9SLzvPPOm57xjGfMl5V9wQteMD9HyXd913dt3rp+DpCMpErR0A5ZVCka3CGDKkWDO2TQoxEWmaeffvrmpc+3d+/ezUvr5xzKSKoUzf6QRZWi+R8yqFI0/0MGPUq9yDzttNPu8N92edlHPOIR88v3RA6QjKRK0dAOWVQpGtwhgypFgztk0KMRFpmPfvSjp8svv3zz2jT96q/+6nTWWWdtXls/51BGUqVo9ocsqhTN/5BBlaL5HzLoUepF5kMe8pD5v2eeeeb0J3/yJ9NnPvOZ6YQTTphvuydygGQkVYqGdsiiStHgDhlUKRrcIYMejbDI/MAHPjCfQb/yK79yvjrQwx72sOnaa6/dvHX9nEMZSZWi2R+yqFI0/0MGVYrmf8igR6kXmS960Yumj3/849Mb3vCG6Uu/9EunL/uyL5suuOCCzVvXzwGSkVQpGtohiypFgztkUKVocIcMejTCInNbuyJQc0/nHMpIqhTN/pBFlaL5HzKoUjT/QwY9SrvIvPXWW6ff/M3f3Lw2zY/G/MQnPrF57Z7JAZKRVCka2iGLKkWDO2RQpWhwhwx6NMoi89d+7demf/2v//X0whe+8IB7KudQRlKlaPaHLKoUzf+QQZWi+R8y6FHaRWbrjDPO2LyUIwdIRlKlaGiHLKoUDe6QQZWiwR0y6NEIi8zzzjtvesYznjFfVvYFL3jBdOqpp07f9V3ftXnr+jmHMpIqRbM/ZFGlaP6HDKoUzf+QQY9SLzKf+9znzpeVve222za33LM5QDKSKkVDO2RRpWhwhwyqFA3ukEGPRlhknnbaaXf4b7u87CMe8Yj55Xsi51BGUqVo9ocsqhTN/5BBlaL5HzLoUepF5n3uc5/p3ve+9/RX/spfmb7wC79wfr39957KAZKRVCka2iGLKkWDO2RQpWhwhwx6NMIi8yEPecj83zPPPHP6kz/5k/lpTk444YT5tnsi51BGUqVo9ocsqhTN/5BBlaL5HzLoUepFZrYcIBlJlaKhHbKoUjS4QwZVigZ3yKBHIywyX/SiF00f//jH56sDfemXfun0ZV/2ZdMFF1yweev6OYcykipFsz9kUaVo/ocMqhTN/5BBj1IvMt/+9reH7qkcIBlJlaKhHbKoUjS4QwZVigZ3yKBHx/oi89Zbb51+8zd/c/PaND8a8xOf+MTmtXsm51BGUqVo9ocsqhTN/5BBlaL5HzLoUepF5uMe97gDHv3oR09f9EVfNH3zN3/z5q3r5wDJSKoUDe2QRZWiwR0yqFI0uEMGPTrWF5mtM844Y/NSjpxDGUmVotkfsqhSNP9DBlWK5n/IoEepF5m7+/CHPzw98YlP3Ly2fg6QjKRK0dAOWVQpGtwhgypFgztk0KMRFpnPfe5z58vK3nbbbZtb7tmcQxlJlaLZH7KoUjT/QwZViuZ/yKBHpRaZ7SB58sknb15bPwdIRlKlaGiHLKoUDe6QQZWiwR0y6NEIi8z73Oc+073vfe/pr/yVvzJ94Rd+4fx6++89lXMoI6lSNPtDFlWK5n/IoErR/A8Z9Cj1IvP7vu/7pu///u+fnX/++dPDH/7w6elPf/rmrevnAMlIqhQN7ZBFlaLBHTKoUjS4QwY9GmGRmS3nUEZSpWj2hyyqFM3/kEGVovkfMuhR6kXma1/72gNe97rXTe94xzs2b7lncoBkJFWKhnbIokrR4A4ZVCka3CGDHo2wyHz7298euqdyDmUkVYpmf8iiStH8DxlUKZr/IYMepV5kfvrTn55uueWWzWvT/PJNN920eW39HCAZSZWioR2yqFI0uEMGVYoGd8igRyMsMh/3uMcd8OhHP3r6oi/6oumbv/mbN29dP+dQRlKlaPaHLKoUzf+QQZWi+R8y6FHqReaZZ545/fmf//nmtWl++WEPe9jmtfVzgGQkVYqGdsiiStHgDhlUKRrcIYMejbDI3N2HP/zh6YlPfOLmtfVzDmUkVYpmf8iiStH8DxlUKZr/IYMepV5knn766ZuXPl9021o5QDKSKkVDO2RRpWhwhwyqFA3ukEGPRlxk3nbbbdPJJ5+8eW39nEMZSZWi2R+yqFI0/0MGVYrmf8igR6kXmfv27Zt+53d+Z/PaNL3rXe+aHvrQh25eWz8HSEZSpWhohyyqFA3ukEGVosEdMujRCIvM7/u+75u+//u/f3b++edPD3/4w6enP/3pm7eun3MoI6lSNPtDFlWK5n/IoErR/A8Z9Cj1IvOd73zntGfPnukRj3jEfHg84YQT5mXmPZUDJCOpUjS0QxZVigZ3yKBK0eAOGfRohEXma1/72gNe97rXTe94xzs2b7lncg5lJFWKZn/IokrR/A8ZVCma/yGDHqVeZLY++9nPTu95z3tm7eV7MgdIRlKlaGiHLKoUDe6QQZWiwR0y6NEIi8xPf/rT0y233LJ5bZpfvummmzavrZ9zKCOpUjT7QxZViuZ/yKBK0fwPGfQo9SLzJ3/yJ6ePf/zjm9em6cYbb5x+6qd+avPa+jlAMpIqRUM7ZFGlaHCHDKoUDe6QQY9GWGSeeeaZ05//+Z9vXpvmlx/2sIdtXls/51BGUqVo9ocsqhTN/5BBlaL5HzLoUepF5umnn7556fOdccYZm5fWzwGSkVQpGtohiypFgztkUKVocIcMejTCIjM6h0a3rZVzKCOpUjT7QxZViuZ/yKBK0fwPGfQo9SLz1FNPnW677bbNa7df0ueUU07ZvLZ+DpCMpErR0A5ZVCka3CGDKkWDO2TQoxEWmfv27Zt+53d+Z/PaNL3rXe+aHvrQh25eWz/nUEZSpWj2hyyqFM3/kEGVovkfMuhR6kXmD/7gD05PfvKTp7e+9a2z9vJzn/vczVvXzwGSkVQpGtohiypFgztkUKVocIcMejTCIvOd73zntGfPnukRj3jE9PCHP3w64YQT5mXmPZVzKCOpUjT7QxZViuZ/yKBK0fwPGfQo9SLz1ltvnV796ldPT3rSk2YvetGLpu/93u/dvHX9HCAZSZWioR2yqFI0uEMGVYoGd8igRyMsMluf/exnp/e85z2z9vI9mXMoI6lSNPtDFlWK5n/IoErR/A8Z9Cj1IrP17ne/e35k5nHHHTc98pGPnF75yldu3rJ+DpCMpErR0A5ZVCka3CGDKkWDO2TQoxEWmT/5kz85ffzjH9+8Nk033njj9FM/9VOb19bPOZSRVCma/SGLKkXzP2RQpWj+hwx6lHKR+Yd/+IfTC17wgulBD3rQfCmfV7ziFfMi857OAZKRVCka2iGLKkWDO2RQpWhwhwx6NMIi8/TTT9+89PnOOOOMzUvr5xzKSKoUzf6QRZWi+R8yqFI0/0MGPUq5yLz3ve89feM3fuN07bXXbm6ZpuOPP37z0j2XAyQjqVI0tEMWVYoGd8igStHgDhn0aIRF5qmnnjrddtttm9em6ZZbbplOOeWUzWvr5xzKSKoUzf6QRZWi+R8yqFI0/0MGPUq5yPyVX/mV6alPfer0gAc8YPru7/7u6a1vfev0VV/1VZu33nM5QDKSKkVDO2RRpWhwhwyqFA3ukEGPRlhktqc2efKTnzyfQ5v28nOf+9zNW9fPOZSRVCma/SGLKkXzP2RQpWj+hwx6lHKRue3Tn/709Iu/+IvT4x73uOlv/s2/OX3P93zP9OY3v3nz1vVzgGQkVYqGdsiiStHgDhlUKRrcIYMejbDIvPXWW6dXv/rV05Oe9KTZi170oul7v/d7N29dP+dQRlKlaPaHLKoUzf+QQZWi+R8y6FHqRebObrzxxumSSy6ZzjrrrM0t6+cAyUiqFA3tkEWVosEdMqhSNLhDBj0aYZHZeve73z0/MvO4446bHvnIR06vfOUrN29ZP+dQRlKlaPaHLKoUzf+QQZWi+R8y6FGZRWaGHCAZSZWioR2yqFI0uEMGVYoGd8igR8fyIvMP//APpxe84AXTgx70oOnhD3/49IpXvGJeZN7TOYcykipFsz9kUaVo/ocMqhTN/5BBjywyF+QAyUiqFA3tkEWVosEdMqhSNLhDBj06lheZ9773vadv/MZvnK699trNLdN0/PHHb16653IOZSRVimZ/yKJK0fwPGVQpmv8hgx5ZZC7IAZKRVCka2iGLKkWDO2RQpWhwhwx6dCwvMn/lV35leupTnzo94AEPmL77u797eutb3zp91Vd91eat91zOoYykStHsD1lUKZr/IYMqRfM/ZNAji8wFOUAykipFQztkUaVocIcMqhQN7pBBj47lRea2T3/609Mv/uIvTo973OOmv/k3/+b0Pd/zPdOb3/zmzVvXzzmUkVQpmv0hiypF8z9kUKVo/ocMemSRuSAHSEZSpWhohyyqFA3ukEGVosEdMujRCIvMnd14443TJZdcMp111lmbW9bPOZSRVCma/SGLKkXzP2RQpWj+hwx6dMwuMq+88srppJNOmk444YTp4osv3tx6597whjdM97rXvabf/u3f3txy8BwgGUmVoqEdsqhSNLhDBlWKBnfIoEejLTIz5BzKSKoUzf6QRZWi+R8yqFI0/0MGPTomF5m33HLLtGfPnum6666b9u/fP+3du3e65pprNm/9fJ/61Kemb/iGb5jOPPNMi0zYpUrR0A5ZVCka3CGDKkWDO2TQI4vM9XMOZSRVimZ/yKJK0fwPGVQpmv8hgx4dk4vMq666ajr77LM3r03TRRddNNvds5/97OnXfu3Xpm/6pm+yyIRdqhQN7ZBFlaLBHTKoUjS4QwY9sshcP+dQRlKlaPaHLKoUzf+QQZWi+R8y6NExuci87LLLpnPOOWfz2jRdeuml0/nnn7957fZ+53d+Z3riE584v2yRCXdWpWhohyyqFA3ukEGVosEdMuiRReb6OYcykipFsz9kUaVo/ocMqhTN/5BBj4ZcZN56663z8vKDH/zg/PqhFpmXXHLJ/EFqjjvuuM2tR69ocIcMqhQN7ZBFlaLBHTKoUjS4QwY9sshcP4tMRlKlaPaHLKoUzf+QQZWi+R8y6NExuci8q0vLfuITn5jue9/7Tg984ANnf+2v/bXp/ve//10+KtMBkpFUKRraIYsqRYM7ZFClaHCHDHpkkbl+zqGMpErR7A9ZVCma/yGDKkXzP2TQo2NykXnzzTdPxx9//HT99ddP+/fvn/bu3TtdffXVm7feOZeWhTurUjS0QxZVigZ3yKBK0eAOGfTIInP9nEMZSZWi2R+yqFI0/0MGVYrmf8igR8fkIrN1xRVXTCeeeOK0Z8+e6cILL5xvu+CCC6bLL798fnlnFplwZ1WKhnbIokrR4A4ZVCka3CGDHllkrp9zKCOpUjT7QxZViuZ/yKBK0fwPGfTomF1k9sgBkpFUKRraIYsqRYM7ZFClaHCHDHpkkbl+zqGMpErR7A9ZVCma/yGDKkXzP2TQI4vMBTlAMpIqRUM7ZFGlaHCHDKoUDe6QQY8sMtfPOZSRVCma/SGLKkXzP2RQpWj+hwx6ZJG5IAdIRlKlaGiHLKoUDe6QQZWiwR0y6JFF5vo5hzKSKkWzP2RRpWj+hwyqFM3/kEGPLDIX5ADJSKoUDe2QRZWiwR0yqFI0uEMGPbLIXD/nUEZSpWj2hyyqFM3/kEGVovkfMuiRReaCHCAZSZWioR2yqFI0uEMGVYoGd8igRxaZ6+ccykiqFM3+kEWVovkfMqhSNP9DBj2yyFyQAyQjqVI0tEMWVYoGd8igStHgDhn0yCJz/ZxDGUmVotkfsqhSNP9DBlWK5n/IoEcWmQtygGQkVYqGdsiiStHgDhlUKRrcIYMeWWSun3MoI6lSNPtDFlWK5n/IoErR/A8Z9Mgic0EOkIykStHQDllUKRrcIYMqRYM7ZNAji8z1cw5lJFWKZn/IokrR/A8ZVCma/yGDHllkLsgBkpFUKRraIYsqRYM7ZFClaHCHDHpkkbl+zqGMpErR7A9ZVCma/yGDKkXzP2TQI4vMBTlAMpIqRUM7ZFGlaHCHDKoUDe6QQY8sMtfPOZSRVCma/SGLKkXzP2RQpWj+hwx6ZJG5IAdIRlKlaGiHLKoUDe6QQZWiwR0y6JFF5vo5hzKSKkWzP2RRpWj+hwyqFM3/kEGPLDIX5ADJSKoUDe2QRZWiwR0yqFI0uEMGPbLIXD/nUEZSpWj2hyyqFM3/kEGVovkfMuiRReaCHCAZSZWioR2yqFI0uEMGVYoGd8igRxaZ6+ccykiqFM3+kEWVovkfMqhSNP9DBj2yyFyQAyQjqVI0tEMWVYoGd8igStHgDhn0yCLz0F155ZXTSSedNJ1wwgnTxRdfvLn1zr3hDW+Y7nWve02//du/vbnl4DmHMpIqRbM/ZFGlaP6HDKoUzf+QQY8sMhfkAMlIqhQN7ZBFlaLBHTKoUjS4QwY9ssg8eLfccsu0Z8+e6brrrpv2798/7d27d7rmmms2b/18n/rUp6Zv+IZvmM4880yLTNilStHsD1lUKZr/IYMqRfM/ZNAji8wFOUAykipFQztkUaVocIcMqhQN7pBBjywyD95VV101nX322ZvXpumiiy6a7e7Zz3729Gu/9mvTN33TN1lkwi5VimZ/yKJK0fwPGVQpmv8hgx5ZZC7IAZKRVCka2iGLKkWDO2RQpWhwhwx6ZJF58C677LLpnHPO2bw2TZdeeul0/vnnb167vd/5nd+ZnvjEJ84vW2TCnVUpmv0hiypF8z9kUKVo/ocMemSRuSAHSEZSpWhohyyqFA3ukEGVosEdMuiRRebBu6tF5q233jovLz/4wQ/Orx9qkXnJJZfMH+vmuOOO29x69Irmf8igStHsD1lUKZr/IYMqRfM/ZNAji8wFWWQykipFQztkUaVocIcMqhQN7pBBjywyD95dXVr2E5/4xHTf+953euADHzj7a3/tr033v//97/JRmc6hjKRK0ewPWVQpmv8hgypF8z9k0COLzAU5QDKSKkVDO2RRpWhwhwyqFA3ukEGPLDIP3s033zwdf/zx0/XXXz/t379/2rt373T11Vdv3nrnXFoW7qxK0ewPWVQpmv8hgypF8z9k0COLzAU5QDKSKkVDO2RRpWhwhwyqFA3ukEGPLDIP3RVXXDGdeOKJ0549e6YLL7xwvu2CCy6YLr/88vnlnVlkwp1VKZr9IYsqRfM/ZFClaP6HDHpkkbkgB0hGUqVoaIcsqhQN7pBBlaLBHTLokUXm+jmHMpIqRbM/ZFGlaP6HDKoUzf+QQY8sMhfkAMlIqhQN7ZBFlaLBHTKoUjS4QwY9sshcP+dQRlKlaPaHLKoUzf+QQZWi+R8y6JFF5oIcIBlJlaKhHbKoUjS4QwZVigZ3yKBHFpnr5xzKSKoUzf6QRZWi+R8yqFI0/0MGPbLIXJADJCOpUjS0QxZVigZ3yKBK0eAOGfTIInP9nEMZSZWi2R+yqFI0/0MGVYrmf8igRxaZC3KAZCRVioZ2yKJK0eAOGVQpGtwhgx5ZZK6fcygjqVI0+0MWVYrmf8igStH8Dxn0yCJzQQ6QjKRK0dAOWVQpGtwhgypFgztk0COLzPVzDmUkVYpmf8iiStH8DxlUKZr/IYMeWWQuyAGSkVQpGtohiypFgztkUKVocIcMemSRuX7OoYykStHsD1lUKZr/IYMqRfM/ZNAji8wFOUAykipFQztkUaVocIcMqhQN7pBBjywy1885lJFUKZr9IYsqRfM/ZFClaP6HDHpkkbkgB0hGUqVoaIcsqhQN7pBBlaLBHTLokUXm+jmHMpIqRbM/ZFGlaP6HDKoUzf+QQY8sMhfkAMlIqhQN7ZBFlaLBHTKoUjS4QwY9sshcP+dQRlKlaPaHLKoUzf+QQZWi+R8y6JFF5oIcIBlJlaKhHbKoUjS4QwZVigZ3yKBHFpnr5xzKSKoUzf6QRZWi+R8yqFI0/0MGPbLIXJADJCOpUjS0QxZVigZ3yKBK0eAOGfTIInP9nEMZSZWi2R+yqFI0/0MGVYrmf8igRxaZC3KAZCRVioZ2yKJK0eAOGVQpGtwhgx5ZZK6fcygjqVI0+0MWVYrmf8igStH8Dxn0yCJzQQ6QjKRK0dAOWVQpGtwhgypFgztk0COLzPVzDmUkVYpmf8iiStH8DxlUKZr/IYMeWWQuyAGSkVQpGtohiypFgztkUKVocIcMemSRuX7OoYykStHsD1lUKZr/IYMqRfM/ZNAji8wFOUAykipFQztkUaVocIcMqhQN7pBBjywy1885lJFUKZr9IYsqRfM/ZFClaP6HDHpkkbkgB0hGUqVoaIcsqhQN7pBBlaLBHTLokUXm+jmHMpIqRbM/ZFGlaP6HDKoUzf+QQY8sMhfkAMlIqhQN7ZBFlaLBHTKoUjS4QwY9sshcP+dQRlKlaPaHLKoUzf+QQZWi+R8y6JFF5oIcIBlJlaKhHbKoUjS4QwZVigZ3yKBHFpnr5xzKSKoUzf6QRZWi+R8yqFI0/0MGPbLIXJADJCOpUjS0QxZVigZ3yKBK0eAOGfTIInP9nEMZSZWi2R+yqFI0/0MGVYrmf8igRxaZC3KAZCRVioZ2yKJK0eAOGVQpGtwhgx5ZZK6fcygjqVI0+0MWVYrmf8igStH8Dxn0yCJzQQ6QjKRK0dAOWVQpGtwhgypFgztk0COLzPVzDmUkVYpmf8iiStH8DxlUKZr/IYMeWWQuyAGSkVQpGtohiypFgztkUKVocIcMemSRuX7OoYykStHsD1lUKZr/IYMqRfM/ZNAji8wFOUAykipFQztkUaVocIcMqhQN7pBBjywy1885lJFUKZr9IYsqRfM/ZFClaP6HDHpkkbkgB0hGUqVoaIcsqhQN7pBBlaLBHTLokUXm+jmHMpIqRbM/ZFGlaP6HDKoUzf+QQY8sMhfkAMlIqhQN7ZBFlaLBHTKoUjS4QwY9sshcP+dQRlKlaPaHLKoUzf+QQZWi+R8y6JFF5oIcIBlJlaKhHbKoUjS4QwZVigZ3yKBHFpnr5xzKSKoUzf6QRZWi+R8yqFI0/0MGPbLIXJADJCOpUjS0QxZVigZ3yKBK0eAOGfTIInP9nEMZSZWi2R+yqFI0/0MGVYrmf8igRxaZC3KAZCRVioZ2yKJK0eAOGVQpGtwhgx5ZZK6fcygjqVI0+0MWVYrmf8igStH8Dxn0yCJzQQ6QjKRK0dAOWVQpGtwhgypFgztk0COLzPVzDmUkVYpmf8iiStH8DxlUKZr/IYMeWWQuyAGSkVQpGtohiypFgztkUKVocIcMemSRuX7OoYykStHsD1lUKZr/IYMqRfM/ZNAji8wFOUAykipFQztkUaVocIcMqhQN7pBBjywy1885lJFUKZr9IYsqRfM/ZFClaP6HDHpkkbkgB0hGUqVoaIcsqhQN7pBBlaLBHTLokUXm+jmHMpIqRbM/ZFGlaP6HDKoUzf+QQY8sMhfkAMlIqhQN7ZBFlaLBHTKoUjS4QwY9sshcP+dQRlKlaPaHLKoUzf+QQZWi+R8y6JFF5oIcIBlJlaKhHbKoUjS4QwZVigZ3yKBHFpnr5xzKSKoUzf6QRZWi+R8yqFI0/0MGPbLIXJADJCOpUjS0QxZVigZ3yKBK0eAOGfTIInP9nEMZSZWi2R+yqFI0/0MGVYrmf8igRxaZC3KAZCRVioZ2yKJK0eAOGVQpGtwhgx5ZZK6fcygjqVI0+0MWVYrmf8igStH8Dxn0yCJzQQ6QjKRK0dAOWVQpGtwhgypFgztk0COLzPVzDmUkVYpmf8iiStH8DxlUKZr/IYMeWWQuyAGSkVQpGtohiypFgztkUKVocIcMemSRuX7OoYykStHsD1lUKZr/IYMqRfM/ZNAji8wFOUAykipFQztkUaVocIcMqhQN7pBBjywy1885lJFUKZr9IYsqRfM/ZFClaP6HDHpkkbkgB0hGUqVoaIcsqhQN7pBBlaLBHTLokUXm+jmHMpIqRbM/ZFGlaP6HDKoUzf+QQY8sMhfkAMlIqhQN7ZBFlaLBHTKoUjS4QwY9sshcP+dQRlKlaPaHLKoUzf+QQZWi+R8y6JFF5oIcIBlJlaKhHbKoUjS4QwZVigZ3yKBHFpnr5xzKSKoUzf6QRZWi+R8yqFI0/0MGPbLIXJADJCOpUjS0QxZVigZ3yKBK0eAOGfTIInP9nEMZSZWi2R+yqFI0/0MGVYrmf8igRxaZC3KAZCRVioZ2yKJK0eAOGVQpGtwhgx5ZZK6fcygjqVI0+0MWVYrmf8igStH8Dxn0yCJzQQ6QjKRK0dAOWVQpGtwhgypFgztk0COLzPVzDmUkVYpmf8iiStH8DxlUKZr/IYMeWWQuyAGSkVQpGtohiypFgztkUKVocIcMemSRuX7OoYykStHsD1lUKZr/IYMqRfM/ZNAji8wFOUAykipFQztkUaVocIcMqhQN7pBBjywy1885lJFUKZr9IYsqRfM/ZFClaP6HDHpkkbkgB0hGUqVoaIcsqhQN7pBBlaLBHTLokUXm+jmHMpIqRbM/ZFGlaP6HDKoUzf+QQY8sMhfkAMlIqhQN7ZBFlaLBHTKoUjS4QwY9sshcP+dQRlKlaPaHLKoUzf+QQZWi+R8y6JFF5oIcIBlJlaKhHbKoUjS4QwZVigZ3yKBHFpnr5xzKSKoUzf6QRZWi+R8yqFI0/0MGPbLIXJADJCOpUjS0QxZVigZ3yKBK0eAOGfTIInP9nEMZSZWi2R+yqFI0/0MGVYrmf8igRxaZC3KAZCRVioZ2yKJK0eAOGVQpGtwhgx5ZZK6fcygjqVI0+0MWVYrmf8igStH8Dxn0yCJzQQ6QjKRK0dAOWVQpGtwhgypFgztk0COLzPVzDmUkVYpmf8iiStH8DxlUKZr/IYMeWWQuyAGSkVQpGtohiypFgztkUKVocIcMemSRuX7OoYykStHsD1lUKZr/IYMqRfM/ZNAji8wFOUAykipFQztkUaVocIcMqhQN7pBBjywy1885lJFUKZr9IYsqRfM/ZFClaP6HDHpkkbkgB0hGUqVoaIcsqhQN7pBBlaLBHTLokUXm+jmHMpIqRbM/ZFGlaP6HDKoUzf+QQY8sMhfkAMlIqhQN7ZBFlaLBHTKoUjS4QwY9sshcP+dQRlKlaPaHLKoUzf+QQZWi+R8y6JFF5oIcIBlJlaKhHbKoUjS4QwZVigZ3yKBHFpnr5xzKSKoUzf6QRZWi+R8yqFI0/0MGPbLIXJADJCOpUjS0QxZVigZ3yKBK0eAOGfTIInP9nEMZSZWi2R+yqFI0/0MGVYrmf8igRxaZC3KAZCRVioZ2yKJK0eAOGVQpGtwhgx5ZZK6fcygjqVI0+0MWVYrmf8igStH8Dxn0yCJzQQ6QjKRK0dAOWVQpGtwhgypFgztk0COLzPVzDmUkVYpmf8iiStH8DxlUKZr/IYMeWWQuyAGSkVQpGtohiypFgztkUKVocIcMemSRuX7OoYykStHsD1lUKZr/IYMqRfM/ZNAji8wFOUAykipFQztkUaVocIcMqhQN7pBBjywy1885lJFUKZr9IYsqRfM/ZFClaP6HDHpkkbkgB0hGUqVoaIcsqhQN7pBBlaLBHTLokUXm+jmHMpIqRbM/ZFGlaP6HDKoUzf+QQY8sMhfkAMlIqhQN7ZBFlaLBHTKoUjS4QwY9sshcP+dQRlKlaPaHLKoUzf+QQZWi+R8y6JFF5oIcIBlJlaKhHbKoUjS4QwZVigZ3yKBHFpnr5xzKSKoUzf6QRZWi+R8yqFI0/0MGPbLIXJADJCOpUjS0QxZVigZ3yKBK0eAOGfTIInP9nEMZSZWi2R+yqFI0/0MGVYrmf8igRxaZC3KAZCRVioZ2yKJK0eAOGVQpGtwhgx5ZZK6fcygjqVI0+0MWVYrmf8igStH8Dxn0yCJzQQ6QjKRK0dAOWVQpGtwhgypFgztk0COLzPVzDmUkVYpmf8iiStH8DxlUKZr/IYMeWWQuyAGSkVQpGtohiypFgztkUKVocIcMemSRuX7OoYykStHsD1lUKZr/IYMqRfM/ZNAji8wFOUAykipFQztkUaVocIcMqhQN7pBBjywy1885lJFUKZr9IYsqRfM/ZFClaP6HDHpkkbkgB0hGUqVoaIcsqhQN7pBBlaLBHTLokUXm+jmHMpIqRbM/ZFGlaP6HDKoUzf+QQY8sMhfkAMlIqhQN7ZBFlaLBHTKoUjS4QwY9sshcP+dQRlKlaPaHLKoUzf+QQZWi+R8y6JFF5oIcIBlJlaKhHbKoUjS4QwZVigZ3yKBHFpnr5xzKSKoUzf6QRZWi+R8yqFI0/0MGPbLIXJADJCOpUjS0QxZVigZ3yKBK0eAOGfTIInP9nEMZSZWi2R+yqFI0/0MGVYrmf8igRxaZC3KAZCRVioZ2yKJK0eAOGVQpGtwhgx5ZZK6fcygjqVI0+0MWVYrmf8igStH8Dxn0yCJzQQ6QjKRK0dAOWVQpGtwhgypFgztk0COLzPVzDmUkVYpmf8iiStH8DxlUKZr/IYMeWWQuyAGSkVQpGtohiypFgztkUKVocIcMemSRuX7OoYykStHsD1lUKZr/IYMqRfM/ZNAji8wFOUAykipFQztkUaVocIcMqhQN7pBBjywy1885lJFUKZr9IYsqRfM/ZFClaP6HDHpkkbkgB0hGUqVoaIcsqhQN7pBBlaLBHTLokUXm+jmHMpIqRbM/ZFGlaP6HDKoUzf+QQY8sMhfkAMlIqhQN7ZBFlaLBHTKoUjS4QwY9sshcP+dQRlKlaPaHLKoUzf+QQZWi+R8y6JFF5oIcIBlJlaKhHbKoUjS4QwZVigZ3yKBHFpnr5xzKSKoUzf6QRZWi+R8yqFI0/0MGPbLIXJADJCOpUjS0QxZVigZ3yKBK0eAOGfTIInP9nEMZSZWi2R+yqFI0/0MGVYrmf8igRxaZC3KAZCRVioZ2yKJK0eAOGVQpGtwhgx5ZZK6fcygjqVI0+0MWVYrmf8igStH8Dxn0yCJzQQ6QjKRK0dAOWVQpGtwhgypFgztk0COLzPVzDmUkVYpmf8iiStH8DxlUKZr/IYMeWWQuyAGSkVQpGtohiypFgztkUKVocIcMemSRuX7OoYykStHsD1lUKZr/IYMqRfM/ZNAji8wFOUAykipFQztkUaVocIcMqhQN7pBBjywy1885lJFUKZr9IYsqRfM/ZFClaP6HDHpkkbkgB0hGUqVoaIcsqhQN7pBBlaLBHTLokUXm+jmHMpIqRbM/ZFGlaP6HDKoUzf+QQY8sMhfkAMlIqhQN7ZBFlaLBHTKoUjS4QwY9sshcP+dQRlKlaPaHLKoUzf+QQZWi+R8y6NExu8i88sorp5NOOmk64YQTposvvnhz6+d76UtfOp188snTaaedNp111lnThz70oc1bDp4DJCOpUjS0QxZVigZ3yKBK0eAOGfTIInP9nEMZSZWi2R+yqFI0/0MGVYrmf8igR8fkIvOWW26Z9uzZM1133XXT/v37p717907XXHPN5q2397a3vW266aab5pdf9apXTU95ylPmlw+VAyQjqVI0tEMWVYoGd8igStHgDhn0yCJz/ZxDGUmVotkfsqhSNP9DBlWK5n/IoEfH5CLzqquums4+++zNa9N00UUXzQ7Wu9/97mnfvrv+R8oBkpFUKRraIYsqRYM7ZFClaHCHDHpkkbl+zqGMpErR7A9ZVCma/yGDKkXzP2TQo2NykXnZZZdN55xzzua1abr00kun888/f/PanWtve/GLX7x57eA5QDKSKkVDO2RRpWhwhwyqFA3ukEGPLDLXzzmUkVQpmv0hiypF8z9kUKVo/ocMejT8IvMXfuEXpjPPPHP6zGc+s7nljl1yySXzB6k57rjjNrcevaLBHTKoUjS0QxZVigZ3yKBK0eAOGfTIInP9LDIZSZWi2R+yqFI0/0MGVYrmf8igR8fkIvNwLy37lre8Zfqar/ma6YYbbtjccugcIBlJlaKhHbKoUjS4QwZVigZ3yKBHFpnr5xzKSKoUzf6QRZWi+R8yqFI0/0MGPTomF5k333zzdPzxx0/XX3/9tH///mnv3r3T1VdfvXnr7bXnxdyzZ8/0/ve/f3PLXecAyUiqFA3tkEWVosEdMqhSNLhDBj2yyFw/51BGUqVo9ocsqhTN/5BBlaL5HzLo0TG5yGxdccUV04knnjgvKy+88ML5tgsuuGC6/PLL55cf9ahHTV/yJV8ynX766bNv/dZvnW8/VA6QjKRK0dAOWVQpGtwhgypFgztk0COLzPVzDmUkVYpmf8iiStH8DxlUKZr/IYMeHbOLzB45QDKSKkVDO2RRpWhwhwyqFA3ukEGPLDLXzzmUkVQpmv0hiypF8z9kUKVo/ocMemSRuSAHSEZSpWhohyyqFA3ukEGVosEdMuiRReb6OYcykipFsz9kUaVo/ocMqhTN/5BBjywyF+QAyUiqFA3tkEWVosEdMqhSNLhDBj2yyFw/51BGUqVo9ocsqhTN/5BBlaL5HzLokUXmghwgGUmVoqEdsqhSNLhDBlWKBnfIoEcWmevnHMpIqhTN/pBFlaL5HzKoUjT/QwY9sshckAMkI6lSNLRDFlWKBnfIoErR4A4Z9Mgic/2cQxlJlaLZH7KoUjT/QwZViuZ/yKBHFpkLcoBkJFWKhnbIokrR4A4ZVCka3CGDHllkrp9zKCOpUjT7QxZViuZ/yKBK0fwPGfTIInNBDpCMpErR0A5ZVCka3CGDKkWDO2TQI4vMQ3fllVdOJ5100nTCCSdMF1988ebWz/fSl750Ovnkk6fTTjttOuuss6YPfehDm7ccPOdQRlKlaPaHLKoUzf+QQZWi+R8y6JFF5oIcIBlJlaKhHbKoUjS4QwZVigZ3yKBHFpkH75Zbbpn27NkzXXfdddP+/funvXv3Ttdcc83mrbf3tre9bbrpppvml1/1qldNT3nKU+aXD5VzKCOpUjT7QxZViuZ/yKBK0fwPGfTIInNBDpCMpErR0A5ZVCka3CGDKkWDO2TQI4vMg3fVVVdNZ5999ua1abroootmB+vd7373tG/fXf9b5xzKSKoUzf6QRZWi+R8yqFI0/0MGPbLIXJADJCOpUjS0QxZVigZ3yKBK0eAOGfTIIvPgXXbZZdM555yzeW2aLr300un888/fvHbn2tte/OIXb147eM6hjKRK0ewPWVQpmv8hgypF8z9k0COLzAU5QDKSKkVDO2RRpWhwhwyqFA3ukEGPLDIP3pJF5i/8wi9MZ5555vSZz3xmc8sdu+SSS+aPdXPcccdtbj16RfM/ZFClaPaHLKoUzf+QQZWi+R8y6JFF5oIsMhlJlaKhHbKoUjS4QwZVigZ3yKBHFpkH73AvLfuWt7xl+pqv+Zrphhtu2Nxy6JxDGUmVotkfsqhSNP9DBlWK5n/IoEcWmQtygGQkVYqGdsiiStHgDhlUKRrcIYMeWWQevJtvvnk6/vjjp+uvv37av3//tHfv3unqq6/evPX22vNi7tmzZ3r/+9+/ueWucw5lJFWKZn/IokrR/A8ZVCma/yGDHllkLsgBkpFUKRraIYsqRYM7ZFClaHCHDHpkkXnorrjiiunEE0+cl5UXXnjhfNsFF1wwXX755fPLj3rUo6Yv+ZIvmU4//fTZt37rt863HyrnUEZSpWj2hyyqFM3/kEGVovkfMuiRReaCHCAZSZWioR2yqFI0uEMGVYoGd8igRxaZ6+ccykiqFM3+kEWVovkfMqhSNP9DBj2yyFyQAyQjqVI0tEMWVYoGd8igStHgDhn0yCJz/ZxDGUmVotkfsqhSNP9DBlWK5n/IoEcWmQtygGQkVYqGdsiiStHgDhlUKRrcIYMeWWSun3MoI6lSNPtDFlWK5n/IoErR/A8Z9Mgic0EOkIykStHQDllUKRrcIYMqRYM7ZNAji8z1cw5lJFWKZn/IokrR/A8ZVCma/yGDHllkLsgBkpFUKRraIYsqRYM7ZFClaHCHDHpkkbl+zqGMpErR7A9ZVCma/yGDKkXzP2TQI4vMBTlAMpIqRUM7ZFGlaHCHDKoUDe6QQY8sMtfPOZSRVCma/SGLKkXzP2RQpWj+hwx6ZJG5IAdIRlKlaGiHLKoUDe6QQZWiwR0y6JFF5vo5hzKSKkWzP2RRpWj+hwyqFM3/kEGPLDIX5ADJSKoUDe2QRZWiwR0yqFI0uEMGPbLIXD/nUEZSpWj2hyyqFM3/kEGVovkfMuiRReaCHCAZSZWioR2yqFI0uEMGVYoGd8igRxaZ6+ccykiqFM3+kEWVovkfMqhSNP9DBj2yyFyQAyQjqVI0tEMWVYoGd8igStHgDhn0yCJz/ZxDGUmVotkfsqhSNP9DBlWK5n/IoEcWmQtygGQkVYqGdsiiStHgDhlUKRrcIYMeWWSun3MoI6lSNPtDFlWK5n/IoErR/A8Z9Mgic0EOkIykStHQDllUKRrcIYMqRYM7ZNAji8z1cw5lJFWKZn/IokrR/A8ZVCma/yGDHllkLsgBkpFUKRraIYsqRYM7ZFClaHCHDHpkkbl+zqGMpErR7A9ZVCma/yGDKkXzP2TQI4vMBTlAMpIqRUM7ZFGlaHCHDKoUDe6QQY8sMtfPOZSRVCma/SGLKkXzP2RQpWj+hwx6ZJG5IAdIRlKlaGiHLKoUDe6QQZWiwR0y6JFF5vo5hzKSKkWzP2RRpWj+hwyqFM3/kEGPLDIX5ADJSKoUDe2QRZWiwR0yqFI0uEMGPbLIXD/nUEZSpWj2hyyqFM3/kEGVovkfMuiRReaCHCAZSZWioR2yqFI0uEMGVYoGd8igRxaZ6+ccykiqFM3+kEWVovkfMqhSNP9DBj2yyFyQAyQjqVI0tEMWVYoGd8igStHgDhn0yCJz/ZxDGUmVotkfsqhSNP9DBlWK5n/IoEcWmQtygGQkVYqGdsiiStHgDhlUKRrcIYMeWWSun3MoI6lSNPtDFlWK5n/IoErR/A8Z9Mgic0EOkIykStHQDllUKRrcIYMqRYM7ZNAji8z1cw5lJFWKZn/IokrR/A8ZVCma/yGDHllkLsgBkpFUKRraIYsqRYM7ZFClaHCHDHpkkbl+zqGMpErR7A9ZVCma/yGDKkXzP2TQI4vMBTlAMpIqRUM7ZFGlaHCHDKoUDe6QQY8sMtfPOZSRVCma/SGLKkXzP2RQpWj+hwx6ZJG5IAdIRlKlaGiHLKoUDe6QQZWiwR0y6JFF5vo5hzKSKkWzP2RRpWj+hwyqFM3/kEGPLDIX5ADJSKoUDe2QRZWiwR0yqFI0uEMGPbLIXD/nUEZSpWj2hyyqFM3/kEGVovkfMuiRReaCHCAZSZWioR2yqFI0uEMGVYoGd8igRxaZ6+ccykiqFM3+kEWVovkfMqhSNP9DBj2yyFyQAyQjqVI0tEMWVYoGd8igStHgDhn0yCJz/ZxDGUmVotkfsqhSNP9DBlWK5n/IoEcWmQtygGQkVYqGdsiiStHgDhlUKRrcIYMeWWSun3MoI6lSNPtDFlWK5n/IoErR/A8Z9Mgic0EOkIykStHQDllUKRrcIYMqRYM7ZNAji8z1cw5lJFWKZn/IokrR/A8ZVCma/yGDHllkLsgBkpFUKRraIYsqRYM7ZFClaHCHDHpkkbl+zqGMpErR7A9ZVCma/yGDKkXzP2TQI4vMBTlAMpIqRUM7ZFGlaHCHDKoUDe6QQY8sMtfPOZSRVCma/SGLKkXzP2RQpWj+hwx6ZJG5IAdIRlKlaGiHLKoUDe6QQZWiwR0y6JFF5vo5hzKSKkWzP2RRpWj+hwyqFM3/kEGPLDIX5ADJSKoUDe2QRZWiwR0yqFI0uEMGPbLIXD/nUEZSpWj2hyyqFM3/kEGVovkfMuiRReaCHCAZSZWioR2yqFI0uEMGVYoGd8igRxaZ6+ccykiqFM3+kEWVovkfMqhSNP9DBj2yyFyQAyQjqVI0tEMWVYoGd8igStHgDhn0yCJz/ZxDGUmVotkfsqhSNP9DBlWK5n/IoEcWmQtygGQkVYqGdsiiStHgDhlUKRrcIYMeWWSun3MoI6lSNPtDFlWK5n/IoErR/A8Z9Mgic0EOkIykStHQDllUKRrcIYMqRYM7ZNAji8z1cw5lJFWKZn/IokrR/A8ZVCma/yGDHllkLsgBkpFUKRraIYsqRYM7ZFClaHCHDHpkkbl+zqGMpErR7A9ZVCma/yGDKkXzP2TQI4vMBTlAMpIqRUM7ZFGlaHCHDKoUDe6QQY8sMtfPOZSRVCma/SGLKkXzP2RQpWj+hwx6ZJG5IAdIRlKlaGiHLKoUDe6QQZWiwR0y6JFF5vo5hzKSKkWzP2RRpWj+hwyqFM3/kEGPLDIX5ADJSKoUDe2QRZWiwR0yqFI0uEMGPbLIXD/nUEZSpWj2hyyqFM3/kEGVovkfMuiRReaCHCAZSZWioR2yqFI0uEMGVYoGd8igRxaZ6+ccykiqFM3+kEWVovkfMqhSNP9DBj2yyFyQAyQjqVI0tEMWVYoGd8igStHgDhn0yCJz/ZxDGUmVotkfsqhSNP9DBlWK5n/IoEcWmQtygGQkVYqGdsiiStHgDhlUKRrcIYMeWWSun3MoI6lSNPtDFlWK5n/IoErR/A8Z9Mgic0EOkIykStHQDllUKRrcIYMqRYM7ZNAji8z1cw5lJFWKZn/IokrR/A8ZVCma/yGDHllkLsgBkpFUKRraIYsqRYM7ZFClaHCHDHpkkbl+zqGMpErR7A9ZVCma/yGDKkXzP2TQI4vMBTlAMpIqRUM7ZFGlaHCHDKoUDe6QQY8sMtfPOZSRVCma/SGLKkXzP2RQpWj+hwx6ZJG5IAdIRlKlaGiHLKoUDe6QQZWiwR0y6JFF5vo5hzKSKkWzP2RRpWj+hwyqFM3/kEGPLDIX5ADJSKoUDe2QRZWiwR0yqFI0uEMGPbLIXD/nUEZSpWj2hyyqFM3/kEGVovkfMuiRReaCHCAZSZWioR2yqFI0uEMGVYoGd8igRxaZ6+ccykiqFM3+kEWVovkfMqhSNP9DBj2yyFyQAyQjqVI0tEMWVYoGd8igStHgDhn0yCJz/ZxDGUmVotkfsqhSNP9DBlWK5n/IoEcWmQtygGQkVYqGdsiiStHgDhlUKRrcIYMeWWSun3MoI6lSNPtDFlWK5n/IoErR/A8Z9Mgic0EOkIykStHQDllUKRrcIYMqRYM7ZNAji8z1cw5lJFWKZn/IokrR/A8ZVCma/yGDHllkLsgBkpFUKRraIYsqRYM7ZFClaHCHDHpkkbl+zqGMpErR7A9ZVCma/yGDKkXzP2TQI4vMBTlAMpIqRUM7ZFGlaHCHDKoUDe6QQY8sMtfPOZSRVCma/SGLKkXzP2RQpWj+hwx6ZJG5IAdIRlKlaGiHLKoUDe6QQZWiwR0y6JFF5vo5hzKSKkWzP2RRpWj+hwyqFM3/kEGPLDIX5ADJSKoUDe2QRZWiwR0yqFI0uEMGPbLIXD/nUEZSpWj2hyyqFM3/kEGVovkfMuiRReaCHCAZSZWioR2yqFI0uEMGVYoGd8igRxaZ6+ccykiqFM3+kEWVovkfMqhSNP9DBj2yyFyQAyQjqVI0tEMWVYoGd8igStHgDhn0yCJz/ZxDGUmVotkfsqhSNP9DBlWK5n/IoEcWmQtygGQkVYqGdsiiStHgDhlUKRrcIYMeWWSun3MoI6lSNPtDFlWK5n/IoErR/A8Z9Mgic0EOkIykStHQDllUKRrcIYMqRYM7ZNAji8z1cw5lJFWKZn/IokrR/A8ZVCma/yGDHllkLsgBkpFUKRraIYsqRYM7ZFClaHCHDHpkkbl+zqGMpErR7A9ZVCma/yGDKkXzP2TQI4vMBTlAMpIqRUM7ZFGlaHCHDKoUDe6QQY8sMtfPOZSRVCma/SGLKkXzP2RQpWj+hwx6ZJG5IAdIRlKlaGiHLKoUDe6QQZWiwR0y6JFF5vo5hzKSKkWzP2RRpWj+hwyqFM3/kEGPLDIX5ADJSKoUDe2QRZWiwR0yqFI0uEMGPbLIXD/nUEZSpWj2hyyqFM3/kEGVovkfMuiRReaCHCAZSZWioR2yqFI0uEMGVYoGd8igRxaZ6+ccykiqFM3+kEWVovkfMqhSNP9DBj2yyFyQAyQjqVI0tEMWVYoGd8igStHgDhn0yCJz/ZxDGUmVotkfsqhSNP9DBlWK5n/IoEcWmQtygGQkVYqGdsiiStHgDhlUKRrcIYMeWWSun3MoI6lSNPtDFlWK5n/IoErR/A8Z9Mgic0EOkIykStHQDllUKRrcIYMqRYM7ZNAji8z1cw5lJFWKZn/IokrR/A8ZVCma/yGDHllkLsgBkpFUKRraIYsqRYM7ZFClaHCHDHpkkbl+zqGMpErR7A9ZVCma/yGDKkXzP2TQI4vMBTlAMpIqRUM7ZFGlaHCHDKoUDe6QQY8sMtfPOZSRVCma/SGLKkXzP2RQpWj+hwx6ZJG5IAdIRlKlaGiHLKoUDe6QQZWiwR0y6JFF5vo5hzKSKkWzP2RRpWj+hwyqFM3/kEGPLDIX5ADJSKoUDe2QRZWiwR0yqFI0uEMGPbLIXD/nUEZSpWj2hyyqFM3/kEGVovkfMuiRReaCHCAZSZWioR2yqFI0uEMGVYoGd8igRxaZ6+ccykiqFM3+kEWVovkfMqhSNP9DBj2yyFyQAyQjqVI0tEMWVYoGd8igStHgDhn0yCJz/ZxDGUmVotkfsqhSNP9DBlWK5n/IoEcWmQtygGQkVYqGdsiiStHgDhlUKRrcIYMeWWSun3MoI6lSNPtDFlWK5n/IoErR/A8Z9Mgic0EOkIykStHQDllUKRrcIYMqRYM7ZNAji8z1cw5lJFWKZn/IokrR/A8ZVCma/yGDHllkLsgBkpFUKRraIYsqRYM7ZFClaHCHDHpkkbl+zqGMpErR7A9ZVCma/yGDKkXzP2TQI4vMBTlAMpIqRUM7ZFGlaHCHDKoUDe6QQY8sMtfPOZSRVCma/SGLKkXzP2RQpWj+hwx6ZJG5IAdIRlKlaGiHLKoUDe6QQZWiwR0y6JFF5vo5hzKSKkWzP2RRpWj+hwyqFM3/kEGPLDIX5ADJSKoUDe2QRZWiwR0yqFI0uEMGPbLIXD/nUEZSpWj2hyyqFM3/kEGVovkfMuiRReaCHCAZSZWioR2yqFI0uEMGVYoGd8igRxaZ6+ccykiqFM3+kEWVovkfMqhSNP9DBj2yyFyQAyQjqVI0tEMWVYoGd8igStHgDhn0yCJz/ZxDGUmVotkfsqhSNP9DBlWK5n/IoEcWmQtygGQkVYqGdsiiStHgDhlUKRrcIYMeWWSun3MoI6lSNPtDFlWK5n/IoErR/A8Z9Mgic0EOkIykStHQDllUKRrcIYMqRYM7ZNAji8z1cw5lJFWKZn/IokrR/A8ZVCma/yGDHllkLsgBkpFUKRraIYsqRYM7ZFClaHCHDHpkkbl+zqGMpErR7A9ZVCma/yGDKkXzP2TQI4vMBTlAMpIqRUM7ZFGlaHCHDKoUDe6QQY8sMtfPOZSRVCma/SGLKkXzP2RQpWj+hwx6ZJG5IAdIRlKlaGiHLKoUDe6QQZWiwR0y6JFF5vo5hzKSKkWzP2RRpWj+hwyqFM3/kEGPLDIX5ADJSKoUDe2QRZWiwR0yqFI0uEMGPbLIXD/nUEZSpWj2hyyqFM3/kEGVovkfMuiRReaCHCAZSZWioR2yqFI0uEMGVYoGd8igRxaZ6+ccykiqFM3+kEWVovkfMqhSNP9DBj2yyFyQAyQjqVI0tEMWVYoGd8igStHgDhn0yCJz/ZxDGUmVotkfsqhSNP9DBlWK5n/IoEcWmQtygGQkVYqGdsiiStHgDhlUKRrcIYMeWWSun3MoI6lSNPtDFlWK5n/IoErR/A8Z9Mgic0EOkIykStHQDllUKRrcIYMqRYM7ZNAji8z1cw5lJFWKZn/IokrR/A8ZVCma/yGDHllkLsgBkpFUKRraIYsqRYM7ZFClaHCHDHpkkbl+zqGMpErR7A9ZVCma/yGDKkXzP2TQI4vMBTlAMpIqRUM7ZFGlaHCHDKoUDe6QQY8sMtfPOZSRVCma/SGLKkXzP2RQpWj+hwx6ZJG5IAdIRlKlaGiHLKoUDe6QQZWiwR0y6JFF5vo5hzKSKkWzP2RRpWj+hwyqFM3/kEGPLDIX5ADJSKoUDe2QRZWiwR0yqFI0uEMGPbLIXD/nUEZSpWj2hyyqFM3/kEGVovkfMuiRReaCHCAZSZWioR2yqFI0uEMGVYoGd8igRxaZ6+ccykiqFM3+kEWVovkfMqhSNP9DBj2yyFyQAyQjqVI0tEMWVYoGd8igStHgDhn0yCJz/ZxDGUmVotkfsqhSNP9DBlWK5n/IoEfH7CLzyiuvnE466aTphBNOmC6++OLNrZ/vM5/5zPSUpzxlfvvXf/3XTx/84Ac3bzl4DpCMpErR0A5ZVCka3CGDKkWDO2TQI4vM9XMOZSRVimZ/yKJK0fwPGVQpmv8hgx4dk4vMW265ZdqzZ8903XXXTfv375/27t07XXPNNZu33t5P/dRPTeedd9788utf//p5qXlXOUAykipFQztkUaVocIcMqhQN7pBBjywy1885lJFUKZr9IYsqRfM/ZFClaP6HDHp0TC4yr7rqqunss8/evDZNF1100Wxn7e3tx7Vuvvnm6b73ve902223za8fLAdIRlKlaGiHLKoUDe6QQZWiwR0y6JFF5vo5hzKSKkWzP2RRpWj+hwyqFM3/kEGPjslF5mWXXTadc845m9em6dJLL53OP//8zWu39/f+3t+bPvKRj2xem+ZHcH70ox/dvBbnAMlIqhQN7ZBFlaLBHTKoUjS4QwY9sshcP+dQRlKlaPaHLKoUzf+QQZWi+R8y6JFF5qaDLTIvueSS+YPU3Oc+9znwMjk98IEPDG8HDo/PITgyPofgyPgcyu9+97vf5qSktWof96NdtECCDKoULY8giypFCyTIoErRAgky6NGRnomGurSs8tfjkC+NlM8h6cjyOSQdWT6HVL0rr7xyOumkk6YTTjhhuvjiize3fr7PfOYz01Oe8pT57V//9V8/ffCDH9y85eD1+LyIFkiQQZWi5RFkUaVogQQZVClaIEEGPTrSM1HKRWZbTB5//PHT9ddfP+3fv3/au3fvdPXVV2/eens/+ZM/OZ133nnzy69//eunJz/5yfPLqp07v6Qjy+eQdGT5HJKOLJ9Dqtwtt9wyX+nnuuuuO3AOveaaazZvvb2f+qmfusM5tC0176oenxfRAgkyqFK0PIIsqhQtkCCDKkULJMigR0d6Jkq5yGxdccUV04knnjgfJC+88ML5tgsuuGC6/PLL55f/8i//cnrSk540fyfsQx7ykPmwqfq580s6snwOSUeWzyHpyPI5pMr1ujJQj8+LaIEEGVQpWh5BFlWKFkiQQZWiBRJk0KMjPROlXWRqzNpzmkq6+/kcko4sn0PSkeVzSJW77LLLpnPOOWfz2jRdeuml0/nnn7957fb+3t/7e9NHPvKRzWvT/I23H/3oRzevxVlkMpIqRcsjyKJK0QIJMqhStECCDHpkkSlJkiRJ0hF2NBeZbanfDuvNfe5znwMvk9MDH/jA8Hbg8PgcgiPjcwiOjM+h/O53v/ttTkp3L4tMSZIkSdLw9bq0rPLX7lyRdPfzOSQdWT6HpCPL59Cxn0XmMdj/9r/9b5uX7n6//du/PX3/93//5rU798EPfnD6xV/8xc1rd/3jd/dN3/RN00knnTTt3bt3evCDHzz97u/+7uYt93zteVgvvvjizWtSntrzBZ9yyinTaaedNp1++unTC17wgumHfuiHNm+9vfa59DVf8zXzy+27kR7xiEfML29rP689kkDK2v/yv/wv89/T9ne9fY34sR/7senWW2/dvHVZ7bm13/KWt2xeu3OvfvWrp5//+SO7BNrv//7vz+9v88Vf/MXTV33VV80vP+pRj9r8CKlv28+Z9m/74x73uOnjH//45i1H1s/93M/d6ZFoR6PtDLj9vGmPgOvR7llVOpzaYvL444+frr/++mn//v3z16Grr75689bb+8mf/MnpvPPOm19+/etfPz35yU+eX1bt3PklHVk+h6Qjy+eQdGT5HDr2s8g8Bjsai8y76v/5f/6f6Vu+5Vs2ry2v3YnVlp+t17zmNdOjH/3o+eUj7ZZbbtm8JB1bte/8f+hDHzp95jOfmV9vlzB7+9vfPt/ZtrP/8//8P6cXvvCF88ttkdnuJP7whz88v/7e9773wJ3dUtZ2fg274YYb5oXg//V//V+bW3L3v//v/3u4lGl3jEu92vk588xnPnP+ppejUc9F5nYGXNLSz6MjnVU1bldcccV04oknzpeM3X4+tW+Mad/s2PrLv/zL6UlPetJ0wgknTA95yEOm6667br5dtXPnl3Rk+RySjiyfQ9KR5XPo2M8i8xgsWmS2R2mdeeaZ8yO5nvCEJ0w33njjfPs73/nOA4/u+sEf/MEDC46dd/78xm/8xoHvmj/jjDOmT33qU/Ov9UVf9EXzbT/+4z9+hx//53/+59N3fud3Tqeeeur8a7/hDW+Yb9/Zzjux3ve+900nn3zy/PKnP/3p6Z/+03863ynQfq9f/dVfnW+/6aab5u92bj+uvf9f//Vff+Dntz/v//F//B/zd0z/1//6X6df+IVfmH9+e9/OPffcebnZtDuY25+vvV/tfW79xE/8xPxrtvfzqU996nzbzjvu2nfzf/M3f/P89rPOOmv6oz/6o/n29mu1R6A+7GEPmxdJvR5NIG37v//v/3t+pM3u/v7f//vT//v//r+b16b57+P73//++eW2yPxX/+pfTf/m3/yb+fV2J9xLXvISi0ylbvfXsHYH8d/5O39nvmxf+7e8fa1qj+Rv/y7/9E//9OZHTfPf7fbve/ta0Bb6rZ2LxXbb9t/75z73ufNtP/IjP3Lg8+NgXyfb16vnP//589eVdsf2f/kv/2W+PWrn79d+3rOf/ex5mG6PKn3Xu941feM3fuP8OdsuS/inf/qn84/7wAc+MP3Df/gP59vbI6jb10RpSTs/Z9qjjP/ZP/tn88u/9Vu/NX8DTJun2rzyB3/wB/Ptbc75tm/7tvnv3Vd/9VdPz3ve8+bbW+2by9rf8/b3/bu/+7sPax76nu/5nvlzp339afNgm+PalQHa26KiReb/9//9f9PjH//4+ddvv9bv/d7vzbe3z9Hv+I7vmPbt2zc97WlPm/7n//yf0xOf+MT534DmHe94x/zjDmdWlaRD1Z7TVNLdz+eQdGT5HJKOLJ9Dx34Wmcdg0SKz3THU7uRptWVGu3O11RYa2+d4aXfyRovMtjzZ3lHUlpTtO+J3f5f7ztfbHb7bX7+1vTN4ZzvvxHrZy142/Yt/8S/ml9t/2yKy1S6N1u5Ma8vNdkdzW0q23vOe90xf8AVfcODn3+te95p++Zd/eX65PeKsvb+f/exn59fbnXntsoHtDuSdj/rcXnbt/ve//4FHuG1v27nIbL/Wa1/72vnlf/fv/t18J1ur3TnXvhO7Xe7wmmuumb8jW+pZ+9xrd8a2z4n293r7+dw+N/75P//n88v/7b/9tzt8B1JbZLY7rtsd2K125277+2qRqcxFX8P+1t/6W9Of/dmfzYPpi1/84vm29m93+/veLv/3pje9af573r7ppdWWIq3tYvFjH/vYfCnL7XOYbf+937nIPNjXyfb1qn2zTKs9SudQl4zdvcjcLpTa16T2/rUlTOvf//t/Py97Wm0ptP3mg/ZNCW1ZJC1p+znTFv1tNrnyyivn1z/5yU8eeBRju8RyWwC22pzTlo6f+MQn5keWHXfccfMj99ty/Su/8ivnv6ftkppteXg481D7RrD2udW++ewLv/AL58stt/moLeejpw5onxs7Ly3bPj+/7/u+b75ceuvXf/3X59tb7XO0/Tp/8Rd/Mb/+7d/+7fM3rbXaMnV7KfXDmVUlSZIkSVLNLDKPwXbfCdzuqGp3TG1rj/742q/92vmO3Hbn1bb23e/RIrM9X2R7BGR79OJHPvKR+bZDLTLbHU7bO2UP1vZOrPZcYve73/2mP/7jP55vb3dKt/dhe+dWe7/bcrLdYfa2t71t/jGt9v5vF5ltqbm9pOwrX/nKeTm5/fnt92h3grVlars8VLujrN3Bt32+tfZohH/8j//xvDxtd3y1di4y73vf+x5Yirb/ttdb7Y67173udfPLrfvc5z6bl6R+tb/n7XOtXWbzS7/0S+e/q+3O5wc84AHz3+m2eGmP/NrWFpntErSPfexj5+dwancAt0fVWGQqc4daZLZ/r9syf/tvfPsa8uY3v3leNP7Mz/zM5kd/vu1isS012iM12/KwPbq5LWla7etDW2Qe7Otkq3292i5I2vtwqG9c2b3I3C5G2zfgtAXP9v1ujxz9B//gH8xfd/76X//rB25vtosZ6XDbPkdmm6e+4Ru+4cBM1L4+tEcXt3/z29+5Bz3oQfPt7WtHe7Tltsc85jHzcvBXfuVXpmc84xmbW2+/asWSeag9ero9wnNb+7Xar7m79rmx+xGZ7Rttdl6es31da4vY9jm6XXC2/u7f/bt3+Hz58i//8vnz6HBmVUmSJEmSVDOLzGOwo73IbLXvrm+X7Ws/vl327mgsMtudWO07+Nsl/tolzlrt524vfbazQy0yd/55X/GKV0w/9EM/tHntjrU7utplbtuvtX0kTLuzr/26z3nOc+Y7j9ud3Ye7yNzeWd2K7niXetb+/rVHoLTaHdft73G743d7B25ru8hsj0pul+Z84xvfaJGp9O3+93TnpWXbI8r+03/6T5u3fL67WmS22iM42yMq27//20c9tiXJ4Swyt19v2udT+7w6WLsXmduf176Gtkt87q4tar7sy75s85p099p+zrRHJLfLE7dlXqv9fdy+3P7t3/7d3TnntNr81ua4u7vI3P6d3/31ZfestG3pInP7qOlW+33bo0ij7mpWldS/o3Emav8+tKfwOFjt35pf/MVf3Lx21z9+d+3foPbNru0bnNolqqNHjt9Ttedhbd+YIWWrPV/wKaecMl/BpH0jUfsmo933u7TPpe035LWZo80kO2s/zzlUmdt+c2D7u96+RrRvEt8+CGJp7Qo/7YooB6s9HUS7n+ZIarPv9pv7vviLv3j+Jt/28qGuICQdzbafM+3f9nb/5PbKV0fa7vPq0Wo7A24/b6Kz6tFo96yqo5dF5jFYdIBsX4S3z+vV7hTaXoqy/WOzfX69dlnX7WC5886fdofutvZomHZH1/a5vrbt/PHtErVLLi3bLhfWHkXZ7nRq70P7x2p7+b93v/vd839/9Ed/dH4Opla7NOb/+r/+rwd+/s4/b3tbezTADTfcML/eLi/4oQ99aL7zud0h1mqPjGn/YLWBpP3j0mp3yrX3of2ju/MfzG/91m+dLr300vnldnt7ZENr951zR+PQLh2qtuDf+Q0CP/zDP3zg7+mrXvWq+e/0zs/J1naR2Z4rrN252x6FtvuOZilbO/89bZe4bI9cbI9CbrVLy7ZvRtkuVP7wD/9wvvx4e6T9oS4t276RZft1oS0t22K01b4ebpckB/s6ufPr1d1dZLbPvfZIzu2l3Nv7f/XVV88vt/f7P/yH/zC/3L72/ff//t/nl6XDbefnTJub2iKvfWNWm1m2z1Pe/k7f1SKzXVq2/dx2qdf2d7TdAblkHjqSRWZbQrzoRS+aX27vS1tstnZ+jrbalQXaTLhtu4A4nFlVUv/WOBMd6Tcp7Pw3qD0v8M6nHzmSto+Gl4612vzaviFv+5Q8bR5++9vfPl+mfmftfqAXvvCF88tt5mjn03Z1iFa7ylZ73TlUmdv5NaydHdtCcHsOzd7B5u7t00xIPdr5OfPMZz5z/qaXo1HPRebuc+jhtPTz6EhnVR08i8xjsHvf+97TV3zFVxzw0pe+dL6j58wzz5y/g67dCbxdLrYl5va76n7gB35gfj6k1s5PunY51jZwth/3tKc9bR5g2x1c7REt7Y7fH//xH7/Dj293GLd/wNrPaW9vl/Hb3e5/PNp3On3Xd33XvNRsz4XZLoHWvgtq+2u2O6rbHVMnn3zy/OjN9v5ulzq7D8ztucfa29v72x7h2Z43sN0x3B5d025v2vOptT/Dwx/+8Pn3au/r9rtfd/6D2Zag7c/Zfq32PGbt+Zhau4eENQ7tGrt2h2xbeLTPgfb3sX0etENkq/23Lffbd/XtbLvI3JlFprK3+zth2xJj+52w7b/tG162/24/8pGPnBeTrfZvePv8aD93+7zL23+r24LmIQ95yPy5037u9rn+fmTHkuRgXyd3fr26u4vMVvv126On25+p/dm2jyBtz/HZLnPebm/v//YOIOlw2z2DtO+GbUvHdsdjuxRzWwq2b365q0Vmq92p335O+3x51rOetWgeOpJFZvvmg/Z513799nnYrhLS2vk52mqfg095ylPmH9c+X84777z59sOZVSX1LzoT7fz62r4JYvv19Z3vfOd8W/u6/YM/+IMH/v3Yea5sl2jfnt/av2Xtm/Par/VFX/RF823ROfQ7v/M756/17dfefjPHznb+G9S+kbb9W9Jq58121Yb271/7vdrz/rbaN0k9+clPnn9ce//bZay3P7/9edtVIdq/M+0S3e3pStrPb+9bO9O25WbT/j1sf772fm3/PWqPem+/Zns/23MNt3b++9z+TT3Yv7vtmz/auaAtkqJ/Z6WjWbs/Z3sloJ21+1q23xTfan8ft/fRtJnjX/2rf3Xga3h7dFr7xtqdc4KUrd1fw3ZeGaj9W96+VrVH8rd/l3/6p39686Om+e92+/e9fS1oC/3Wzjm43bb9975dka61c8Y92NfJ9vXq+c9//vx1pc3n22+6jdr5+7Wf1x5c0p66q93Xuv3mvvY5e/bZZ89n41b7RsB2Dm23t29gbF8TpSXt/Jxp90f+s3/2z+aXf+u3fmv+Bpg2T7V5ZXvlxTbntPsy29+79iCk5z3vefPtrZ3n0O/+7u8+rHmoPeCpfe60rz9tHmxzXLsyQHtb1NJz6Hd8x3fMe5J2vmzfZN+uENb+DWi2Tz90OLOqjl4WmYPXDnvb2p3AbZmZsTY0bC8l1r7YtksmbJ/jTJIkSZJ0zxYtMtsdQ9vnjG7LjO2Ve9pCY3ulgnYnb7TIbMuT7R1F7dzaviN+59tbO19vd/guuTLQy172sgPf/NT+2xaRrXaVnnZnWltutjua21Ky1a7s8wVf8AUHfv697nWv6Zd/+Zfnl9sjztr7276JotXuzGuXDWx3IO981Of2smvtakDbR7htb9u5yGy/1vYbr/7dv/t3851srXbn3JOe9KT5m7va1YgO9dzd0tGofe61O2Pb50T7e739fG6fG9srmLRvHm9Lk21tkdnuuG53YLfanbvt76tFpjIXfQ37W3/rb01/9md/Nl8Z6MUvfvF8W/u3u/19b9+Q2h4k0f6eH+zKQO1KJ+1Slturzm3/vd+5yDzY18n29ap9s0yrPUXKoS4Zu3uRuV0ota9J7f1rS5hWe+DH9qm22lJo+80H7ZsS2rJIWtL2c6bdZ99mk3alrFa7IuL2UYztEsttAdhqc05bOrZvRm/38berAbVH7rflenuqn/b3tN3X35aHhzMPtW8Ea59b7ZvPvvALv3C+3HKbj9pyvn2DwO7a58bOS8u2z8/2DbHtcumtX//1X59vb7XP0fbrtAdctdqVgdo3rbXaMnV7KfXDmVV19LLIHLztoxfbQPnYxz72wBe3bLXvaGiDQvsOp/ZFvg0LkiRJkqQc7b4T+GDPQd3uyG13Xm1r3/0eLTLbN9q2R0C2Ry9unwf+UIvMdofTzqdiiNreidW+MfZ+97vf9Md//Mfz7e2s2d6H7Z1b7f1uy8l2h1l7Lvpt7f3fLjLbUrPdedd65StfOS8ntz+//R7tTrC2TN2zZ898R1m7g297lYn2aIR2xaG2PN1+c/HOReahnpv4da973fxy6z73uc/mJalf7e95+1xrl9n80i/90vnvarvzuT2ndfs73RYv7ZFf27ZXBmr3Mb3+9a+f7wB2ZSBl71CLzPbvdVvmb/+Nb19D3vzmN8+Lxu2Vdna2XSy2pUa7H7MtD9ujm7cPyGhfH9oi82BfJ1vt69V2QdLeh0N948ruReZ2Mdq+AacteLbvd3vkaHvqlvZ156//9b9+4PZmu5iRDrft1bTaPNWuPrWdidrXh/bo4vZvfvs796AHPWi+vX3taI+23PaYxzxmXg62pwV5xjOesbn19qtWLJmH2qOn2yM8t7Vfq/2au2ufG7sfkdm+0ab9/G3t61pbxLbP0e2Cs/V3/+7fvcPny5d/+ZfPn0eHM6vq6GWRKUmSJEmSjqijvchste+ub5ftaz++XfbuaCwy251Y7Tv42yX+2iXOWu3nbi99trNDLTJ3/nlf8YpXTD/0Qz+0ee2OtTu62mVu26+1fSRMu7Ov/brPec5z5juP253dh7vI3N5Z3YrueJd61v7+tUegtNod1+3vcbvjd3sHbmu7yGyPSm6X5nzjG99okan07f73dOelZdsjyv7Tf/pPm7d8vrtaZLbaIzjbIyrbv//bRz22JcnhLDK3X2/u7lOctK+h7RKfu2uLmi/7si/bvCbdvbafM+0Rye3yxG2Z12p/H7cvt3/7t393d845rTa/tTnu7i4yt3/nd3992T0rbVu6yNw+arrVft/tlSJ3d1ezqo5eFpmSJEmSJOmIipZq7ZEo2+f1ancKbS9F2e5w2j6/Xrusa7TIbHfobmuPhml3dG2f62vbzh/fLlG75NKy7XJh7VGU7U6n9j60O822l/9797vfPf/3R3/0R+fnYGq1S2O256WPFpntbe3RADfccMP8eru8YHt+4Xbnc7tDrNUeGdO+i789gq3d6dZqd8q196Etd3fewfet3/qt8/Mdt9rt7ZENrd13zllkqndtwb/zGwTa825v/56+6lWvmv9O7/ycbG0Xme3KWu3O3fYoNItMZW/nv6ftanXtkYvtUcitdmnZ9s0o24XKH/7hH86XH2+PtD/UpWXbN7Jsvy60pWVbjLba18PtkuRgXyePxiKzfe61R3JuL+Xe3v+rr756frm93//hP/yH+eX2te+///f/Pr8sHW47P2fa3NQWee0bs9rMsn2e8vZ3+q4Wme3Ssu3ntku9tr+jbSm6ZB46kkVme97xF73oRfPL7X1pi83Wzs/RVruyQJsJt20vXXs4s6qOXhaZkiRJkiTpiLr3ve89fcVXfMUBL33pS+c7es4888z56UHancDb5WJbYrbb2hLkB37gB+bnQ2rtXEy2y7G2O6baj3va0542P6ql3cHVHtHS7vj98R//8Tv8+HaH8TOf+cz557S3t8v47W73nVjtcpjf9V3fNS8123NhtkugnXLKKQd+zXZHdbtj6uSTT54fvdne3+1SZ/cScfu0Le39bY/wbM8b2O4Ybo+uabc37SlS2p/h4Q9/+Px7tfe1XZastfMOvrYEbX/O9mu15zFrz8fUssjU2rU7ZNvCo30OtL+P7fOgLVVa7b9tuf/qV796fn3bdpG5M4tMZW97mcz2NaB9DWlLjO3lwNt/2ze8bP/dfuQjHzkvJlvt3/D2+dF+7vZ5l7f/VrcFzUMe8pD5c6f93O1z/e1ckhzs6+TRWGS22q/fHj3d/kztz7Z9BGl7js92mfN2e3v/X/jCF863S4fb7hmkPVq/LR3b4rxdirktBds3v9zVIrP1mte8Zv457fPlWc961qJ56EgWme2bD9rnXfv12+dhu0pIa/cis30OPuUpT5l/XPt8Oe+88+bbD2dW1dHLIlOSJEmSJK1WWzpua3cCt2VmxtolYLeXEmvfdd+eF237HGeSJEmS1skiU5KUuv/xP/7H9NSnPnXas2fP/N3t/+gf/aP5Ui5H+7t6L7jgguktb3nL/HK7tEv7bsX2XZV//Md/PH8n/t2pfcfZn/zJn2xem6ZzzjlnvvTYkdZ+3Xvd614H3t9Wu4RFuy36zrODtfNRDAfrcH6MJEnSkraPXmyz3GMf+9j5Mn4Za5fG/Lqv+7r5u+rbd9u3R1RKkiRJWjeLTElS2tpzNbQnp995uaJ2ia62aOx5eaJ2mYhf+IVf2Lx294suXXE0aovMdmdaW4xua5e5aHcIWmRKkiRJkiRJOlayyJQkpe3Xf/3X5+dziNq5yGwvtycEb89B1Pzmb/7mfHt7Tor287ff8d8WoO0SYe2a+e319jwV22vWb6+j/7M/+7PTF3/xF8+XDvsn/+Sf3OH3aT/3uc997vx6WyS+4hWvmG9vzyfx4Ac/eL69Xc+/LWDbr9WeM+Ckk06af//23Es7F5u/9Eu/dOA5Np7//OfPt7Xaz/mX//Jfzt/5367R/2d/9mebt3y+tsj83u/93vl9aNffb5dna49W3flcAG9961vn5yRov8c//af/dL5Wf+vKK6+cHvSgB80fp/bE5tslZXsOqPbj2nMStJ/3q7/6q/PtOxeZv/EbvzH/WZr2Y9qjFCRJkiRJkiSpVxaZkqS0/cRP/MT0z//5P9+8dsd2LhhvuummA89f9P73v3++BFjrx37sx6YLL7xwfrktIdvi7V3vetf06Ec/er6t9fGPf3z+784l4M6Xd/4+r3rVq+bLzN58883z6+2JwXf+t/Ud3/Ed0xvf+Mb55d2PyNy+3i43+5Vf+ZXzZdTar9WeCLxdGrbVLg+7/fnPe97zphe/+MXzyzvbPkn6c57znOk//sf/OL3uda+bXvCCFxx4v9vH4gEPeMB8Cd7WM57xjOllL3vZgdvbx6gtW5/85CcfWFL+i3/xLw48CrV9TNoTrbfl5s5FZnvy9ne84x3zy215uv04SJIkSZIkSVKPLDIlSWk73EXmJz7xiXmB2B592B4t+Df+xt+Yb3/7298+nXDCCdOP/MiPTL/7u78733bjjTfOz7f5fd/3ffOjE2+99db59sNZZD7xiU+c/vN//s/zyzt7wxveMH3913/9/Pt/+Zd/+XTxxRfPtx9skdke7diWi9v+7b/9t/NSsvVX/+pfnZeMrfb8UTsvH7ttu8j8rd/6renpT3/6vGBsS8vt+90uv7vzkazt0Znf9m3fNn8Mdt5++eWXH1hStuVv+3NuH3HZFq3vfe9777DIbH+u9uds/18+8pGPzLdJkiRJkiRJUq8sMiVJaWsLuMO5tGxbVLZLvralZHuU4Bd8wRfMt7faox9/5md+Zl7O/fzP//x8W3s0YVs+Pv7xj58vp9q6u4vM9ijHL/mSL5k+/OEPz6+396Vp3Z1FZru07Lb2PrT3ZXfbRWarXYK2PY9o60gWme3StH/wB38wv7yz3c+R+fu///vTS17ykum4446b3ve+921ulSRJkqRjp//xP/7H9NSnPnX+Jth2VvpH/+gfzd88uvN8eDS64IILpre85S3zy+2pUE455ZT57PrHf/zH89WA7k7tvNjOwdvaN8dec801m9fufu3XbVcQ2r6/rXZloXbb9vx8OO0+Y0Ydzo+RJI2TRaYkKW3tkYntEYCXXHLJ5pZp+r3f+735gLfzANketdkuI9t6zWteMx+kWh/60IfmS8q2XvnKV07Pfvazp49+9KPTJz/5yfm297znPfMhsXU4i8xXv/rVd7q0bLsMa1tktufAbAvS9mO3i8z2SMm3ve1t88ut7SKzPXdnWwS296W9f4961KMOPCfl0kXmm970pgO/x/b9bsvV9ojKa6+99sDtL3/5yw/c/oEPfGC+/WlPe9qBw2G7tGz7NbePBn33u989/3fnAXL781rt47C9HK4kSZIkHSu1M1H7ZtF2/tvWvll09zn0aHfeeecdeLqPI2n3N9Qerdo59LTTTrvDVYOe8pSnzGdqi0xJUs8sMiVJqWvfSdqey7F9J2z77tTHPvax83M87jxAttfbgao9OvH5z3/+gWXga1/72vnHnHHGGdMjHvGI6frrr58PoF/7tV87H7aatghsHc4isy0w2yMnTz755Pn3asvR1g//8A/P79++ffum7/zO7zywyGyP+jzppJPm36ctOnceKH/pl35pvhRt+7Xb+7xt6SJzZzvf7/YozPbnbr9He9TpZz7zmfn2djndBz3oQfPH4Ad+4AcOHA7b+3fuuefOP759nLe37zxAtsvxtve3fazbEnT7a0qSJEnSsdKv//qvH9aVgdrL7ZzZzlbNb/7mb863t29cbT+/nQPbj20L0PYNrO281l5vZ64f//Efn3/s9gz3sz/7s9MXf/EXT1/1VV81/ZN/8k/u8Pu0n9uuQLQ9i73iFa+Yb3/hC184PfjBD55vf9aznjUvYNuv1c6Ud+cc+i//5b+cz7lnnnnm9Gd/9mebt3y+dg793u/93vl9+OxnPzt/I297tOrSc+j3f//3HzhjfvrTn55/3EMe8pD5522/wXfnOfQ3fuM3Dpzf24/51Kc+Nd8uSRoni0xJkiRJkiRJ+lw/8RM/MV/1J2rngvGmm26ar3rTat9c+3Vf93Xzy+1qQRdeeOH8cltCtsXbu971runRj370fFurXdmntXMJuPPlnb/Pq171qjtdGWjnf1vf8R3fMb3xjW+cX979iMzt6+2bhNsVev7n//yf86/1zd/8zQeustOuarT9+c973vOmF7/4xfPLO9t+Q2375t7/+B//4/S6171uesELXnDg/W4fiwc84AHzJXhb7elUXvaylx24vX2M2rK1faPydknZrgy0fRRq+5iceOKJ83Jz5yKzXenoHe94x/xyW55uPw6SpHGyyJQkSZIkSZKkz3W4i8xPfOIT8wKxPfqwPVrwb/yNvzHf/va3v3064YQT5iv1/O7v/u5824033jhfxadd5aY9OvHWW2+dbz+cReYTn/jE6T//5/88v7yzdgWg9lQs7ff/8i//8uniiy+ebz/YIrM92rEtF7f923/7b+elZOuv/tW/euBpRv79v//3d7h87LbtIvO3fuu3pqc//enzgrEtLbfvd7v60c5HsrZHZ37bt33b/DHYefvll19+YEnZlr/tz7l9xGVbtL73ve+9wyKz/bnan7P9f/nIRz4y3yZJGiuLTEmSJEmSJEn6XG0BdziXlm2LynbJ17aUbI8S/IIv+IL59lZ79OPP/MzPzMu5n//5n59va48mbMvHxz/+8fPlVFt3d5HZHuX4JV/yJdOHP/zh+fX2vjStu7PIXPoUJ+0StO15RFtHsshsl6b9gz/4g/nlne1+jszf//3fn17ykpdMxx133PS+971vc6skaZQsMiVJkiRJkiTpc7VHJrZHAF5yySWbW6bp937v9+bnuty5YGyP2myXkW295jWvmS/P2vrQhz40X1K29cpXvnJ69rOfPX30ox+dPvnJT863vec975kXnK3DWWS++tWvvtOlZdtlWNsisz0HZluQth+7XWS2R0q+7W1vm19ubReZ7bk72yKwvS/t/XvUox514Dkply4y3/SmNx34Pbbvd1uutkdUXnvttQduf/nLX37g9g984APz7U972tMOLCnbpWXbr7l9NOi73/3u+b87F5nbn9dqH4ft5XAlSeNkkSlJkiRJkiRJm9ojKttzObbLwZ5yyinTYx/72Pk5HncuGNvrp5122vzoxOc///kHloGvfe1r5x9zxhlnTI94xCOm66+/fn604td+7dceuIRqWwS2DmeR2RaY7ZGTJ5988vx7teVo64d/+Ifn92/fvn3Td37ndx5YZLZHfZ500knz79MWnTsfoflLv/RL86Vo26/d3udtSxeZO9v5frdHYbY/d/s92qNOP/OZz8y3t8vpPuhBD5o/Bj/wAz9wYEnZ3r9zzz13/vHt47y9fecis12Ot72/7WPdlqDbX1OSNE4WmZIkSZIkSZIkSZLSZZEpSZIkSZIkSZIkKV0WmZIkSZIkSZIkSZLSZZEpSZIkSZIkSZIkKV0WmZIkSZIkSZIkSZLSZZEpSZIkSZIkSZIkKV0WmZIkSZIkSZIkSZLSZZEpSZIkSZIkSZIkKV0WmZIkSZIkSZIkSZLSZZEpSZIkSZIkSZIkKV0WmZIkSZIkSZIkSZLSZZEpSZIkSZIkSZIkKV0WmZIkSZIkSZIkSZLSZZEpSZIkSZIkSZIkKV0WmZIkSZIkSZIkSZLSZZEpSZIkSZIkSZIkKV0WmZIkSZIkSZIkSZLSZZEpSZIkSZIkSZIkKV0WmZIkSZIkSZIkSZLSZZEp6ZC96eX7pnvd614H7Dv3TdO1m7cd/a6d3nTu53+v+fd7eb/fTZIkSZIkSZIk5c0iU8N27cvPnfattDBb8/c62u1eLN5r38u7LjJfvm/X73fumzZvkyRJkiRJkiRJI2WRqXuoa6dr3/Ty6dx9+6Z9uxdXn7Pvc7efe+7Lpzdd22tl9qbp3F2/573ude7nbu3Rmr/X0c8iU5IkSZIkSZIk3RNZZGrl2qVD73ip0ru079zp5W86yquza19+h0dI3m7f1OWBkmv+Xh2yyJQkSZIkSZIkSfdEFplar2vfNJ0bPPrycB3dy7F6RObhdmwvMqPn5LQ4lSRJkiRJkiQpQxaZWqlombfc0VxmXvvynY8M3Ted2/Ehkmv+Xke7Y32R6RGgkiRJkiRJkiTlzCJTKxQsizb2Rc+D+bnXD3752TqXZD1WssiUJEmSJEmSJEn3RBaZ6t+bzr3jomjj3Lt63svwuSWP9iVmdVdZZEqSJEmSJEmSpHsii0x1706LsM853GXkHS/JunXn55d80x1+3OfePv/y137u9nN3LEP33WF5esef0x4d+qaDL+iufdP08nP3TfsO8sjSO9m1DDuc3yv+M3yuzSNU77DU3dcuT3uI93fb597v9jE493M/Pnrf9x3Gr3N0F5nXfu5d+tz/k8/9vjt/zdsfmXv72w97sXgkf7aDLNdD0Z/3KHxcJUmSJEmSJEnSobPIVOei58a88yLy4EU//86Xl73jsq29PViINTuWYoe7oDv4ZW4PYdevdTi/153/DNNBFrk7HfxSu3f9c3dqS97NT9zV0Vtkfu7/ZfT/ZId9L3/TYS0yj/TPtuzn3/Hv69H6uEqSJEmSJEmSpENnkam+RY98W7jZudMi7XN2/xK7l4AHfeTkjp94OAu6ZUurHY54kdke1XfH1w8qXCweZJF7SPFS9HDe97vu7rw/G3f6+3Lkf7a7v8g8eh9XSZIkSZIkSZJ06Cwy1bVoYbT0OS4P59e407LtYBYtMu/8aND2iMEDP+baQzzCcNfy7e4sMpe4067vbi3c4v83R2ORebcXws1RWWTu+rPd7UvLHr2PqyRJkiRJkiRJOnQWmeraPb3I3PlclNe25zXc8dPuckG3e9l1521he+fu+NyV0Y/5XEe0yNy38/kyg0uvNsHve/uvt+/255/83C9wx9/vc6+/PFjmHc77tXiRGV0e+I7/b+Y/18Eu4dvxz9Z+7J0+ngf5f7jt6P3ekiRJkiRJkiTpUFlkqmv36CLzsBZSO+xaNu3+feP3e/eSLn7+z8NZBh7sz3Cn33X38nTz45YXLPEO5/1aupRb8P5eexQuRXx7h/dnC3/c3fr9dna4v7ckSZIkSZIkSTpUFpnq2j22yDyMxdFd/py784jMg/y+d2uRedA/w9FblB3d9ysu+v938F3h0VssHt773WOReeQfM0mSJEmSJEmSZJGpzh2NReadlkKfs3vXdHcWR3f5c4JHEt7lc2QeZAl2OO/f4f8ZFi4y58u2njvt27fvzo+M3O2I3q+4O/8d2Dcd/K/AwsXiEf7ZFv9+Ozvi31uSJEmSJEmSJB0qi0z17YgvFRosmj5nlUXm54oWsQd38AXdPbLIjBatd+WI3q+4O/38g1x+9/YOc7F4lP5sh/377eyo/d6SJEmSJEmSJOlQWWSqb9HzIx5ykbW73c9BGf/8u7NsO5yfc/iLzP+/vbtLbhSHAjA662JBWg+rYTMshgHHnmDpCmSbZGj6nCo9JOFH0P32lcTWKsO2e7U/Q0vIjN5bw/hoXrHjV2Qe92xt91s78t4AAAAAAMAWIZMfFoefvUVvD2FIDE7+kZCZrybt0pS65/ks24qm9XazFb8dMqP3dtsWN7vgsfOKRXOp//vvh8Ujn63lfmvH3hsAAAAAANgiZPLjiqhzG9srGBdjtC3tPKLO9E442jvn+e/7893SMr/2Z9gPmcW1KnHu2HlVvLC9cEu4PvLZWt7l2rH3BgAAAAAAtgiZ/Lxwe9lldFOXytVs4zhMfQqC1jIODEfb55SBq/ugZLbMr/0Z3giZS4gdVkfU3vFH86qJV+XeVjLej6jOZxl7IfODZwvf5VO0Hqdhde1j7w0AAAAAAGwRMvkV4Uq7l0f925rvxLa9c8poVY5la9nbSOkWtGr3bJlf+zPsh8y33/dH86preZfVkYXMI59tsTu31XlH3xsAAAAAAKgTMvk1Q23FXcvo0rRe+JZ7J7btnzNMqVittzfiLWhb5tf+DA3boVZXwe6Mj+a14YX53MLw+nf5KtwDn+2msoXx91gF9KPvDQAAAAAAVAmZ/Krlu5fdi3Hwtv3s/fyanwmZ43zMO/G1XDn66yFzVvvG6Hp0ff+87etH89qxGwG7KS0VOD8u2E74qGf7Em0vuxrZecfeGwAAAAAAqBEy+V98fQdziZpBKLxt17q9VWtuyLf8bImfO+cUAe+FkX9Ps2V+rzxDHlirsff+zcbngLhshdvfV7jOf19HvA/ntW+cr5fH7GU+8zUfF53nvI6Ay7c0Qwc827f5/1oQ2W//D6OTDr03AAAAAAAQETIhEqy6W4JaEaPGJcxloe92rGwFAAAAAADwCSETAmMeJze3Bn1eQbgMIRMAAAAAAOAzQiYEipB5i5Or7U/vblvkZtuRLluM6pgAAAAAAACfETIhMvbZ9w/bh9WYAAAAAAAAnxMyoeblmNlNaRAxAQAAAAAAjiBkwo5x6KeUuqkrtpCdRzf/PqWpFzABAAAAAAAOJWQCAAAAAAAApyNkAgAAAJd022Fn2UlnY3edeH+dYT4vO+c+utRXzqkb+xR/uqRL851azXN9PE8wt27+fZrnNozbsxtSee7Lo1u9g5c/y7KMbuptbAQAQAMhEwAAALiWcQl+UUArRxcUtbHvwmP/G6k9P05Diq9xH9H9n43zJXbmk4+u9gmUceob38v2+A6wu++qMl55hQAA/L2ETAAAAOA6Xl0hGBS1/TjXuqJwPxxuhsyxvjK0ZZTXFjIBAPizCJkAAADARbwR6t4KmS0rKWcNUbV+nWFKwfGvjvz6R28t+17ItLUsAABthEwAAADgGsJwmKY++27kOA7TcP9uZRQSyziXppQHwPV3IiuK66T5Ouuf5xGHzHqQXb7RWXwHc/65vv1sYzQMtsBtWTUZhUyrLQEAOIqQCQAAAFzCUVEtCplDEfr2AmEZI9NQrrIMQ2blu5op/O7lSmUFaH3V54qQCQDACQmZAAAAwCX8aMgMtnrdDIRFGGy/RrT9a1OMnEXv4OveO4RMAABOSMgEAAAALuHtiJeJQ2YQGDe2ly2OvdW9lpAZfRvzlWeIzm/YXlbIBADghIRMAAAA4BoqW6suIW/ZlrVtTWM9ZLbHvjImfh3XEDKDe3xF0HbRis7dSwiZAACckJAJAAAAXEYU8b5HN3VpmMadolkNmdFqx6jaFVGwfn4eMqMw2Lqt7MNb1zgwZG6OjVWsAACQEzIBAACAC4m2Vi3HLWjez8jVQ+bS+9a/f/7bQ37Md0QUMqP3BQAANUImAAAAcDHj1HdRRMtGl6Yh6HtbIXM3+BXb266/TylkCpkAALxCyAQAAAAuaRz6Ke0GzTKsbYbMIEaut5ctzn3aSlXItLUsAACvEDIBAACAaxuHKXX14LYfE59jZ/3v5UrQ52v/TsiMvhO6GyUPDJkt5wEAQAshEwAAAPg7FNu+3ke2SnAvZEbXucW7zW1lF/shMwqK6xWf++JtdYVMAAD+REImAAAA8PcIY2brisuHIBZ2fbkSsthGtSFkNsxvW3mPpvOFTAAATkjIBAAAAP4i+6FvP2TGAS8fZdBrCJnh/NrjYDivlpOFTAAATkjIBAAAAC5hWRHZpSFbBZmJVjy+urXsIlw5uR7RKsiWkPn1HOtjvka+TW1pjLalnUdTWBQyAQA4ISETAAAAuID1dq/d1KV+Gsbn8jcOcXzMY2JTyIy2l12PsOa1hcx6JF2ea5iyx5p/HqY+BSsxl9FaFYVMAABOSMgEAAAALmAnLFZHy7axUciMI95jxDGvMWTOtq7dPuJ5hw4MmS1D7AQAoIWQCQAAAFzAOyGzC4Naa8icD6ysnKwFxPaQuRhqqyxbRjfPoX7p0i+HzK3nBgCAByETAAAAuIaxn1JrzOxS9ZuTzSGzFk+rBfC1kLlYvnvZvRhod78TGhEyAQA4ISETAAAAuJTHNyOLANjF387M3eLh03nzOfe/FfJj/+mqgXQJmXn4TI3LJr+eaYmaQThcnmsJs/O13s6DxerS+TkaQmZ5XttoiaQAACBkAgAAAAAAAKcjZAIAAAAAAACnI2QCAAAAAAAApyNkAgAAAAAAAKcjZAIAAAAAAACnI2QCAAAAAAAApyNkAgAAAAAAAKcjZAIAAAAAAACnI2QCAAAAAAAApyNkAgAAAAAAAKcjZAIAAAAAAACnI2QCAAAAAAAApyNkAgAAAAAAAKcjZAIAAAAAAACnI2QCAAAAAAAApyNkAgAAAAAAAKcjZAIAAAAAAACnI2QCAAAAAAAApyNkAgAAAAAAAKcjZAIAAAAAAACnI2QCAAAAAAAApyNkAgAAAAAAAKcjZAIAAAAAAACnI2QCAAAAAAAApyNkAgAAAAAAAKcjZAIAAAAAAAAnM03/ApZvsluh9bauAAAAAElFTkSuQmCC)"
      ]
    }
  ]
}